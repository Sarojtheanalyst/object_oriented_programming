{
 "cells": [
  {
   "cell_type": "code",
   "execution_count": 1,
   "id": "4880ccb5-3dce-4ee7-ab9c-fe358482a3f7",
   "metadata": {},
   "outputs": [
    {
     "name": "stdout",
     "output_type": "stream",
     "text": [
      "10\n",
      "20\n",
      "30\n"
     ]
    }
   ],
   "source": [
    "a=10\n",
    "b=20\n",
    "c=30\n",
    "print(a)\n",
    "print(b)\n",
    "print(c)"
   ]
  },
  {
   "cell_type": "code",
   "execution_count": 11,
   "id": "63dd4e2f-f790-43c4-aa85-a06eb10e0f66",
   "metadata": {},
   "outputs": [
    {
     "name": "stdout",
     "output_type": "stream",
     "text": [
      "['In', 'Out', '_', '__', '___', '__builtin__', '__builtins__', '__doc__', '__loader__', '__name__', '__package__', '__session__', '__spec__', '_dh', '_i', '_i1', '_i10', '_i11', '_i2', '_i3', '_i4', '_i5', '_i6', '_i7', '_i8', '_i9', '_ih', '_ii', '_iii', '_oh', 'a', 'b', 'c', 'exit', 'get_ipython', 'open', 'quit']\n"
     ]
    }
   ],
   "source": [
    "print(dir())"
   ]
  },
  {
   "cell_type": "code",
   "execution_count": 3,
   "id": "d782e3de-935f-4938-b826-7101efd11892",
   "metadata": {},
   "outputs": [
    {
     "name": "stdout",
     "output_type": "stream",
     "text": [
      "print(dir())\n"
     ]
    }
   ],
   "source": [
    "print(_i)"
   ]
  },
  {
   "cell_type": "code",
   "execution_count": 21,
   "id": "0eeee5e4-e76c-471a-a4d9-3ca691b2012f",
   "metadata": {},
   "outputs": [
    {
     "name": "stdout",
     "output_type": "stream",
     "text": [
      "a=f\"i{1}\"\n",
      "print(a)\n"
     ]
    }
   ],
   "source": [
    "print(_i9)  # this will provide the running all the cells "
   ]
  },
  {
   "cell_type": "code",
   "execution_count": 6,
   "id": "9e950791-cf12-4dc2-8d09-38ba8ced63b2",
   "metadata": {},
   "outputs": [
    {
     "name": "stdout",
     "output_type": "stream",
     "text": [
      "print(dir())\n"
     ]
    }
   ],
   "source": [
    "print(_i2)"
   ]
  },
  {
   "cell_type": "code",
   "execution_count": 7,
   "id": "2d404520-532d-4969-806e-269f93c9706f",
   "metadata": {},
   "outputs": [
    {
     "name": "stdout",
     "output_type": "stream",
     "text": [
      "print(_i)\n"
     ]
    }
   ],
   "source": [
    "print(_i3)"
   ]
  },
  {
   "cell_type": "code",
   "execution_count": 8,
   "id": "38a325a1-8e4c-47b7-a345-7add7e683dd6",
   "metadata": {},
   "outputs": [
    {
     "name": "stdout",
     "output_type": "stream",
     "text": [
      "print(_i2)\n"
     ]
    }
   ],
   "source": [
    "print(_i4)"
   ]
  },
  {
   "cell_type": "code",
   "execution_count": 13,
   "id": "9f6aaa3c-2830-4ca7-929d-1f676c566971",
   "metadata": {},
   "outputs": [
    {
     "name": "stdout",
     "output_type": "stream",
     "text": [
      "<class 'str'>\n"
     ]
    }
   ],
   "source": [
    "print(type(_i1))"
   ]
  },
  {
   "cell_type": "markdown",
   "id": "ce7faa25-1c8b-44d4-8d10-c6f202f80f55",
   "metadata": {},
   "source": [
    "# get the globals variables names"
   ]
  },
  {
   "cell_type": "code",
   "execution_count": 8,
   "id": "7356b288-70e9-491a-8063-05fa578fe034",
   "metadata": {},
   "outputs": [
    {
     "data": {
      "text/plain": [
       "'_5'"
      ]
     },
     "execution_count": 8,
     "metadata": {},
     "output_type": "execute_result"
    }
   ],
   "source": [
    "# Defining some global variables\n",
    "x = 10\n",
    "y = 20\n",
    "z = \"Hello, World!\"\n",
    "\n",
    "# Defining a function (this will not be included in the variables list)\n",
    "def my_function():\n",
    "    return x + y\n",
    "\n",
    "# Get global variables (non-callable items) from the current scope\n",
    "global_variables = [name for name in dir() if not callable(globals().get(name)) and not name.startswith(\"__\")]\n",
    "\n",
    "global_variables[4]"
   ]
  },
  {
   "cell_type": "code",
   "execution_count": null,
   "id": "6908c033-1a9b-4113-a82c-5fb2535356ba",
   "metadata": {},
   "outputs": [],
   "source": []
  }
 ],
 "metadata": {
  "kernelspec": {
   "display_name": "Python 3 (ipykernel)",
   "language": "python",
   "name": "python3"
  },
  "language_info": {
   "codemirror_mode": {
    "name": "ipython",
    "version": 3
   },
   "file_extension": ".py",
   "mimetype": "text/x-python",
   "name": "python",
   "nbconvert_exporter": "python",
   "pygments_lexer": "ipython3",
   "version": "3.12.6"
  }
 },
 "nbformat": 4,
 "nbformat_minor": 5
}
