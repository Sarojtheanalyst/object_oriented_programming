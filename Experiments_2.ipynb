{
 "cells": [
  {
   "cell_type": "code",
   "execution_count": 1,
   "id": "5d2cbf4c-35df-48d0-9f75-e5017ec32910",
   "metadata": {},
   "outputs": [
    {
     "name": "stdout",
     "output_type": "stream",
     "text": [
      "10\n",
      "20\n",
      "30\n"
     ]
    }
   ],
   "source": [
    "a=10\n",
    "b=20\n",
    "c=30\n",
    "print(a)\n",
    "print(b)\n",
    "print(c)"
   ]
  },
  {
   "cell_type": "code",
   "execution_count": 3,
   "id": "3bbdce4e-a353-44a8-9e60-5dc526b33662",
   "metadata": {},
   "outputs": [
    {
     "name": "stdout",
     "output_type": "stream",
     "text": [
      "third functions executes\n"
     ]
    }
   ],
   "source": [
    "print(\"third functions executes\")"
   ]
  },
  {
   "cell_type": "code",
   "execution_count": 2,
   "id": "7cb64a3d-cc19-456e-bb3d-6951fc196d4d",
   "metadata": {},
   "outputs": [
    {
     "name": "stdout",
     "output_type": "stream",
     "text": [
      " second functions executes\n"
     ]
    }
   ],
   "source": [
    "print(\" second functions executes\")"
   ]
  },
  {
   "cell_type": "code",
   "execution_count": 4,
   "id": "63be098e-732d-4c0e-b044-e7ea6ebabda4",
   "metadata": {},
   "outputs": [
    {
     "name": "stdout",
     "output_type": "stream",
     "text": [
      "a=10\n",
      "b=20\n",
      "c=30\n",
      "print(a)\n",
      "print(b)\n",
      "print(c)\n"
     ]
    }
   ],
   "source": [
    "print(_i1)"
   ]
  },
  {
   "cell_type": "code",
   "execution_count": 5,
   "id": "e0d4f892-b98d-47c3-bdeb-d1cef53bb7d5",
   "metadata": {},
   "outputs": [
    {
     "name": "stdout",
     "output_type": "stream",
     "text": [
      "print(\" second functions executes\")\n"
     ]
    }
   ],
   "source": [
    "print(_i2)"
   ]
  },
  {
   "cell_type": "code",
   "execution_count": 6,
   "id": "d3863e51-790e-4d26-b400-60f3edb75b81",
   "metadata": {},
   "outputs": [
    {
     "name": "stdout",
     "output_type": "stream",
     "text": [
      "print(\"third functions executes\")\n"
     ]
    }
   ],
   "source": [
    "print(_i3)"
   ]
  },
  {
   "cell_type": "code",
   "execution_count": 7,
   "id": "e5d63848-4e5b-4bc9-a247-5c07c3fa08af",
   "metadata": {},
   "outputs": [
    {
     "name": "stdout",
     "output_type": "stream",
     "text": [
      "print(_i1)\n"
     ]
    }
   ],
   "source": [
    "print(_i4)"
   ]
  },
  {
   "cell_type": "code",
   "execution_count": 32,
   "id": "1353dd55-e00f-46fc-8ba7-2566380a0218",
   "metadata": {},
   "outputs": [],
   "source": [
    "l=[_i1,_i2,_i3,_i4,_i5,_i6]"
   ]
  },
  {
   "cell_type": "code",
   "execution_count": 37,
   "id": "71f3f28f-6aeb-4d2a-9303-7a4e2f499c1b",
   "metadata": {},
   "outputs": [],
   "source": [
    "demos=l[0]"
   ]
  },
  {
   "cell_type": "code",
   "execution_count": 39,
   "id": "7031f79a-f987-4c79-aa83-ef1640d2045b",
   "metadata": {},
   "outputs": [
    {
     "name": "stdout",
     "output_type": "stream",
     "text": [
      "a=10\n",
      "b=20\n",
      "c=30\n",
      "print(a)\n",
      "print(b)\n",
      "print(c)\n"
     ]
    }
   ],
   "source": [
    "print(demos)"
   ]
  },
  {
   "cell_type": "code",
   "execution_count": 33,
   "id": "9c3059c9-61f9-466e-8ca2-c9dda4a2ea6c",
   "metadata": {},
   "outputs": [
    {
     "name": "stdout",
     "output_type": "stream",
     "text": [
      "a=10\n",
      "b=20\n",
      "c=30\n",
      "print(a)\n",
      "print(b)\n",
      "print(c)\n",
      "\n",
      "\n",
      "print(\" second functions executes\")\n",
      "\n",
      "\n",
      "print(\"third functions executes\")\n",
      "\n",
      "\n",
      "print(_i1)\n",
      "\n",
      "\n",
      "print(_i2)\n",
      "\n",
      "\n",
      "print(_i3)\n",
      "\n",
      "\n"
     ]
    }
   ],
   "source": [
    "for i in l:\n",
    "    print(i)\n",
    "    print(\"\\n\")"
   ]
  },
  {
   "cell_type": "code",
   "execution_count": 12,
   "id": "044931cd-85ea-4a08-9585-8078c0901921",
   "metadata": {},
   "outputs": [
    {
     "name": "stdout",
     "output_type": "stream",
     "text": [
      "['_i1', '_i2', '_i3', '_i4', '_i5', '_i6']\n"
     ]
    }
   ],
   "source": [
    "# Create a list of variables (values)\n",
    "l = [f\"_i{i}\" for i in range(1, 7)]\n",
    "\n",
    "print(l)\n"
   ]
  },
  {
   "cell_type": "code",
   "execution_count": 14,
   "id": "ad08b9b7-5fde-492f-ada5-c639e6f975cf",
   "metadata": {},
   "outputs": [],
   "source": [
    "class Item:\n",
    "    def __init__(self, name):\n",
    "        self.name = name\n",
    "\n",
    "    def __repr__(self):\n",
    "        return f\"Item(name={self.name})\"\n",
    "\n",
    "items_list=[]\n",
    "for i in range(1, 7):\n",
    "    item = Item(f\"_i{i}\")  # Create an object with a dynamic name\n",
    "    items_list.append(item)  # Add the object to the list"
   ]
  },
  {
   "cell_type": "code",
   "execution_count": 16,
   "id": "5346cef4-5ad9-4891-a931-b36abd3bca5f",
   "metadata": {},
   "outputs": [],
   "source": [
    "class Item:\n",
    "    def __init__(self, name):\n",
    "        self.name = name\n",
    "\n",
    "    def __repr__(self):\n",
    "        return f\"Item(name={self.name})\"\n",
    "        "
   ]
  },
  {
   "cell_type": "code",
   "execution_count": 17,
   "id": "401e9f7a-d9c5-4488-8aa1-ad10eeb7f5de",
   "metadata": {},
   "outputs": [
    {
     "name": "stdout",
     "output_type": "stream",
     "text": [
      "[Item(name=_i1), Item(name=_i2), Item(name=_i3), Item(name=_i4), Item(name=_i5), Item(name=_i6)]\n"
     ]
    }
   ],
   "source": [
    "# List to store objects\n",
    "items_list = []\n",
    "\n",
    "# Dynamically create 6 objects of type Item with names _i1, _i2, ..., _i6\n",
    "for i in range(1, 7):\n",
    "    item = Item(f\"_i{i}\")  # Create an object with a dynamic name\n",
    "    items_list.append(item)  # Add the object to the list\n",
    "\n",
    "# Print the list of objects\n",
    "print(items_list)"
   ]
  },
  {
   "cell_type": "code",
   "execution_count": 20,
   "id": "0792d2cb-11dd-4a9a-af06-f91bb6a423d8",
   "metadata": {},
   "outputs": [],
   "source": [
    "# Accessing attributes of the objects in the list\n",
    "lst=[]\n",
    "for item in items_list:\n",
    "    lst.append(item.name)  # Print the name attribute of each obj"
   ]
  },
  {
   "cell_type": "code",
   "execution_count": 22,
   "id": "27554643-256c-4086-9929-271faab145a9",
   "metadata": {},
   "outputs": [
    {
     "name": "stdout",
     "output_type": "stream",
     "text": [
      "<class 'str'>\n"
     ]
    }
   ],
   "source": [
    "print(type(lst[0]))"
   ]
  },
  {
   "cell_type": "code",
   "execution_count": 26,
   "id": "833bc9bd-4b68-4e3b-8220-6c6ac17938ac",
   "metadata": {},
   "outputs": [
    {
     "name": "stdout",
     "output_type": "stream",
     "text": [
      "a=10\n",
      "b=20\n",
      "c=30\n",
      "print(a)\n",
      "print(b)\n",
      "print(c)\n"
     ]
    }
   ],
   "source": [
    "print(_i1)"
   ]
  },
  {
   "cell_type": "code",
   "execution_count": 27,
   "id": "90d84a5f-dc79-4870-bd30-97581de4ffbe",
   "metadata": {},
   "outputs": [
    {
     "name": "stdout",
     "output_type": "stream",
     "text": [
      "<class 'str'>\n"
     ]
    }
   ],
   "source": [
    "print(type(_i1))"
   ]
  },
  {
   "cell_type": "code",
   "execution_count": 28,
   "id": "65c18bb1-b902-4d36-a9c0-6a787b478e20",
   "metadata": {},
   "outputs": [
    {
     "name": "stdout",
     "output_type": "stream",
     "text": [
      "2389014307696\n"
     ]
    }
   ],
   "source": [
    "print(id(_i1))"
   ]
  },
  {
   "cell_type": "code",
   "execution_count": 29,
   "id": "9821e475-0e88-4351-8be7-d2c819e8cf05",
   "metadata": {},
   "outputs": [
    {
     "name": "stdout",
     "output_type": "stream",
     "text": [
      "2389014310288\n"
     ]
    }
   ],
   "source": [
    "print(id(_i2))"
   ]
  },
  {
   "cell_type": "code",
   "execution_count": null,
   "id": "3df9c55f-024d-44b0-85bc-fa983aeedc7b",
   "metadata": {},
   "outputs": [],
   "source": []
  }
 ],
 "metadata": {
  "kernelspec": {
   "display_name": "Python 3 (ipykernel)",
   "language": "python",
   "name": "python3"
  },
  "language_info": {
   "codemirror_mode": {
    "name": "ipython",
    "version": 3
   },
   "file_extension": ".py",
   "mimetype": "text/x-python",
   "name": "python",
   "nbconvert_exporter": "python",
   "pygments_lexer": "ipython3",
   "version": "3.12.6"
  }
 },
 "nbformat": 4,
 "nbformat_minor": 5
}
