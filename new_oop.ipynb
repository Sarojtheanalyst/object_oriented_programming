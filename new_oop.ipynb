{
 "cells": [
  {
   "cell_type": "code",
   "execution_count": 7,
   "id": "88e4db71-1a52-44ca-91b5-308fb17beba8",
   "metadata": {},
   "outputs": [],
   "source": [
    "class Demo:\n",
    "\n",
    "    def __init__(self):\n",
    "        self.name=100\n",
    "        self.__age=100\n",
    "        print(\"constructor called\")\n",
    "    def display(self):\n",
    "        print(\"hellow world\")\n",
    "    def __private_mehotds(self):\n",
    "        print(\" ths is self \")"
   ]
  },
  {
   "cell_type": "code",
   "execution_count": 8,
   "id": "ec5ecc20-d9b3-4b23-8e81-15dc0d08ab85",
   "metadata": {},
   "outputs": [
    {
     "name": "stdout",
     "output_type": "stream",
     "text": [
      "constructor called\n"
     ]
    }
   ],
   "source": [
    "d1=Demo()"
   ]
  },
  {
   "cell_type": "code",
   "execution_count": 9,
   "id": "5b7e29ce-a88a-4f42-8eb7-a0ef502433cc",
   "metadata": {},
   "outputs": [
    {
     "name": "stdout",
     "output_type": "stream",
     "text": [
      "Help on Demo in module __main__ object:\n",
      "\n",
      "class Demo(builtins.object)\n",
      " |  Methods defined here:\n",
      " |\n",
      " |  __init__(self)\n",
      " |      Initialize self.  See help(type(self)) for accurate signature.\n",
      " |\n",
      " |  display(self)\n",
      " |\n",
      " |  ----------------------------------------------------------------------\n",
      " |  Data descriptors defined here:\n",
      " |\n",
      " |  __dict__\n",
      " |      dictionary for instance variables\n",
      " |\n",
      " |  __weakref__\n",
      " |      list of weak references to the object\n",
      "\n"
     ]
    }
   ],
   "source": [
    "help(d1)  # see the differents "
   ]
  },
  {
   "cell_type": "code",
   "execution_count": 10,
   "id": "bb4cd1b0-f010-4e59-8464-2104c805d55f",
   "metadata": {},
   "outputs": [
    {
     "data": {
      "text/plain": [
       "['_Demo__age',\n",
       " '_Demo__private_mehotds',\n",
       " '__class__',\n",
       " '__delattr__',\n",
       " '__dict__',\n",
       " '__dir__',\n",
       " '__doc__',\n",
       " '__eq__',\n",
       " '__format__',\n",
       " '__ge__',\n",
       " '__getattribute__',\n",
       " '__getstate__',\n",
       " '__gt__',\n",
       " '__hash__',\n",
       " '__init__',\n",
       " '__init_subclass__',\n",
       " '__le__',\n",
       " '__lt__',\n",
       " '__module__',\n",
       " '__ne__',\n",
       " '__new__',\n",
       " '__reduce__',\n",
       " '__reduce_ex__',\n",
       " '__repr__',\n",
       " '__setattr__',\n",
       " '__sizeof__',\n",
       " '__str__',\n",
       " '__subclasshook__',\n",
       " '__weakref__',\n",
       " 'display',\n",
       " 'name']"
      ]
     },
     "execution_count": 10,
     "metadata": {},
     "output_type": "execute_result"
    }
   ],
   "source": [
    "dir(d1)  # givs all the private attributes and the methodsa "
   ]
  },
  {
   "cell_type": "code",
   "execution_count": 11,
   "id": "90f83b08-f3f9-42e4-b9b7-3421502cd65f",
   "metadata": {},
   "outputs": [
    {
     "data": {
      "text/plain": [
       "{'name': 100, '_Demo__age': 100}"
      ]
     },
     "execution_count": 11,
     "metadata": {},
     "output_type": "execute_result"
    }
   ],
   "source": [
    "vars(d1)"
   ]
  },
  {
   "cell_type": "code",
   "execution_count": 12,
   "id": "17e7a4b8-e141-4c89-9bd5-bc0529a83197",
   "metadata": {},
   "outputs": [
    {
     "data": {
      "text/plain": [
       "__main__.Demo"
      ]
     },
     "execution_count": 12,
     "metadata": {},
     "output_type": "execute_result"
    }
   ],
   "source": [
    "type(d1)"
   ]
  },
  {
   "cell_type": "code",
   "execution_count": 13,
   "id": "73088797-0cdb-4b55-8280-3d16508843e8",
   "metadata": {},
   "outputs": [
    {
     "data": {
      "text/plain": [
       "100"
      ]
     },
     "execution_count": 13,
     "metadata": {},
     "output_type": "execute_result"
    }
   ],
   "source": [
    "d1.name  # d1.tb"
   ]
  },
  {
   "cell_type": "code",
   "execution_count": 14,
   "id": "d28e43ea-45fe-43bf-8762-0f7efdba3749",
   "metadata": {},
   "outputs": [
    {
     "data": {
      "text/plain": [
       "3"
      ]
     },
     "execution_count": 14,
     "metadata": {},
     "output_type": "execute_result"
    }
   ],
   "source": [
    "s=\"hellow world\"\n",
    "s.count('l')"
   ]
  },
  {
   "cell_type": "code",
   "execution_count": null,
   "id": "1c6c6daf-ea65-4e69-9ee1-a0cbd89f7091",
   "metadata": {},
   "outputs": [],
   "source": []
  }
 ],
 "metadata": {
  "kernelspec": {
   "display_name": "Python 3 (ipykernel)",
   "language": "python",
   "name": "python3"
  },
  "language_info": {
   "codemirror_mode": {
    "name": "ipython",
    "version": 3
   },
   "file_extension": ".py",
   "mimetype": "text/x-python",
   "name": "python",
   "nbconvert_exporter": "python",
   "pygments_lexer": "ipython3",
   "version": "3.12.6"
  }
 },
 "nbformat": 4,
 "nbformat_minor": 5
}
