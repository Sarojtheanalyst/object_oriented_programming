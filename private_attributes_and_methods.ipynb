{
 "cells": [
  {
   "cell_type": "code",
   "execution_count": 73,
   "id": "c7291b0a-316e-4dac-b882-3c3c76aed266",
   "metadata": {},
   "outputs": [],
   "source": [
    "class Atm:\n",
    "    # constructor\n",
    "    def __init__(self):\n",
    "        print(id(self))\n",
    "        self.pin = ''\n",
    "        self.__balance = 0\n",
    "\n",
    "    # getter method  --. we are accesing the private attributes \n",
    "    def get_balance(self):\n",
    "      return self.__balance\n",
    "\n",
    "    # setter method --> we are trying to set the value of the private attributes \n",
    "    def set_balance(self,new_value):\n",
    "        if type(new_value) == int:\n",
    "            self.__balance = new_value\n",
    "        else:\n",
    "            print('invalid the data types')\n",
    "    \n",
    "    # privates attributes \n",
    "    def __p_Methods(self):\n",
    "       print(\" this is Private Methods\")\n",
    "\n",
    "    # like the getter and setter we can perfrom the getter for the methods \n",
    "    def run_private_method(self):\n",
    "         self.__p_Methods()\n",
    "        \n",
    " "
   ]
  },
  {
   "cell_type": "code",
   "execution_count": 74,
   "id": "cef656f0-a1a8-4fb3-a7a4-314f89e5ea7d",
   "metadata": {},
   "outputs": [
    {
     "name": "stdout",
     "output_type": "stream",
     "text": [
      "2205224917312\n"
     ]
    }
   ],
   "source": [
    "obj = Atm()"
   ]
  },
  {
   "cell_type": "code",
   "execution_count": 54,
   "id": "d991e94a-1a4d-45a8-a68c-9e9fa486e35b",
   "metadata": {},
   "outputs": [
    {
     "data": {
      "text/plain": [
       "''"
      ]
     },
     "execution_count": 54,
     "metadata": {},
     "output_type": "execute_result"
    }
   ],
   "source": [
    "# see all the non priavte attributes and the non private methods\n",
    "obj.pin    # tab"
   ]
  },
  {
   "cell_type": "markdown",
   "id": "b03ef306-3fb2-45e9-86a4-667066727905",
   "metadata": {},
   "source": [
    "# change the attributes values and make the new methods "
   ]
  },
  {
   "cell_type": "code",
   "execution_count": 55,
   "id": "fd0a3d7f-f244-475b-ba5e-c380742caffb",
   "metadata": {},
   "outputs": [],
   "source": [
    "# change the pin value and add one more attributes \n",
    "obj.pin='1234'\n",
    "obj.dummy_attribute='this is dummy attribute'"
   ]
  },
  {
   "cell_type": "markdown",
   "id": "c0f717d1-fc17-484a-903c-2f54e5f9c9e4",
   "metadata": {},
   "source": [
    "# Dynamically add a method"
   ]
  },
  {
   "cell_type": "code",
   "execution_count": 56,
   "id": "a7324369-870d-4582-886b-de1a4ca5c445",
   "metadata": {},
   "outputs": [],
   "source": [
    "def display_pin(self):\n",
    "    print(f\"Hello from {self.pin}!\")"
   ]
  },
  {
   "cell_type": "code",
   "execution_count": 57,
   "id": "fdb60d40-9f1c-49f5-ab4f-0b774c70afd9",
   "metadata": {},
   "outputs": [],
   "source": [
    "# addting the methods to the class \n",
    "obj.new_method = display_pin.__get__(obj) "
   ]
  },
  {
   "cell_type": "code",
   "execution_count": 58,
   "id": "17471197-40a8-4e85-8863-937db6f7b146",
   "metadata": {},
   "outputs": [
    {
     "name": "stdout",
     "output_type": "stream",
     "text": [
      "Hello from 1234!\n"
     ]
    }
   ],
   "source": [
    "# check if the new methods is created or nots \n",
    "obj.new_method()"
   ]
  },
  {
   "cell_type": "code",
   "execution_count": 59,
   "id": "4d67aac0-2b59-4ecf-b8ab-39ae4a7979dd",
   "metadata": {},
   "outputs": [
    {
     "name": "stdout",
     "output_type": "stream",
     "text": [
      "invalid the data types\n"
     ]
    }
   ],
   "source": [
    "# want to change the value of the private attributes \n",
    "\n",
    "obj.set_balance('hellow world')"
   ]
  },
  {
   "cell_type": "code",
   "execution_count": 60,
   "id": "d32d9fcf-5ee2-4677-84cd-666589f272b1",
   "metadata": {},
   "outputs": [],
   "source": [
    "obj.set_balance(10000)"
   ]
  },
  {
   "cell_type": "code",
   "execution_count": 61,
   "id": "cefbfa83-38e8-4b97-81f6-78f29703c216",
   "metadata": {},
   "outputs": [
    {
     "ename": "AttributeError",
     "evalue": "'Atm' object has no attribute '__balance'",
     "output_type": "error",
     "traceback": [
      "\u001b[1;31m---------------------------------------------------------------------------\u001b[0m",
      "\u001b[1;31mAttributeError\u001b[0m                            Traceback (most recent call last)",
      "Cell \u001b[1;32mIn[61], line 1\u001b[0m\n\u001b[1;32m----> 1\u001b[0m \u001b[43mobj\u001b[49m\u001b[38;5;241;43m.\u001b[39;49m\u001b[43m__balance\u001b[49m \u001b[38;5;66;03m# we are encounter error while excessing the private attributes \u001b[39;00m\n",
      "\u001b[1;31mAttributeError\u001b[0m: 'Atm' object has no attribute '__balance'"
     ]
    }
   ],
   "source": [
    "obj.__balance # we are encounter error while excessing the private attributes "
   ]
  },
  {
   "cell_type": "code",
   "execution_count": 62,
   "id": "bb891e2a-da71-4613-83f5-6bf648253d2c",
   "metadata": {},
   "outputs": [
    {
     "data": {
      "text/plain": [
       "10000"
      ]
     },
     "execution_count": 62,
     "metadata": {},
     "output_type": "execute_result"
    }
   ],
   "source": [
    "# but we can access the value from this \n",
    "obj._Atm__balance"
   ]
  },
  {
   "cell_type": "code",
   "execution_count": 63,
   "id": "614d36a8-2b2e-43b5-966c-7dec2b4492cd",
   "metadata": {},
   "outputs": [],
   "source": [
    "obj._Atm__balance=20000  # change the private attributes values "
   ]
  },
  {
   "cell_type": "code",
   "execution_count": 64,
   "id": "c0d00ee3-a87f-42d7-b289-2fae7c2c3767",
   "metadata": {},
   "outputs": [
    {
     "data": {
      "text/plain": [
       "20000"
      ]
     },
     "execution_count": 64,
     "metadata": {},
     "output_type": "execute_result"
    }
   ],
   "source": [
    "obj._Atm__balance"
   ]
  },
  {
   "cell_type": "code",
   "execution_count": 65,
   "id": "3f9d0cdd-1b6e-4aea-bf44-9cf99365889f",
   "metadata": {},
   "outputs": [
    {
     "data": {
      "text/plain": [
       "{'pin': '1234',\n",
       " '_Atm__balance': 20000,\n",
       " 'dummy_attribute': 'this is dummy attribute',\n",
       " 'new_method': <bound method display_pin of <__main__.Atm object at 0x0000020171A1E090>>}"
      ]
     },
     "execution_count": 65,
     "metadata": {},
     "output_type": "execute_result"
    }
   ],
   "source": [
    "vars(obj)  # see all the methods and the attributes "
   ]
  },
  {
   "cell_type": "code",
   "execution_count": 66,
   "id": "c75da3f0-d390-406b-b1b0-ca3ad4c1a771",
   "metadata": {},
   "outputs": [
    {
     "data": {
      "text/plain": [
       "['_Atm__balance',\n",
       " '_Atm__p_Methods',\n",
       " '__class__',\n",
       " '__delattr__',\n",
       " '__dict__',\n",
       " '__dir__',\n",
       " '__doc__',\n",
       " '__eq__',\n",
       " '__format__',\n",
       " '__ge__',\n",
       " '__getattribute__',\n",
       " '__getstate__',\n",
       " '__gt__',\n",
       " '__hash__',\n",
       " '__init__',\n",
       " '__init_subclass__',\n",
       " '__le__',\n",
       " '__lt__',\n",
       " '__module__',\n",
       " '__ne__',\n",
       " '__new__',\n",
       " '__reduce__',\n",
       " '__reduce_ex__',\n",
       " '__repr__',\n",
       " '__setattr__',\n",
       " '__sizeof__',\n",
       " '__str__',\n",
       " '__subclasshook__',\n",
       " '__weakref__',\n",
       " 'dummy_attribute',\n",
       " 'get_balance',\n",
       " 'new_method',\n",
       " 'pin',\n",
       " 'run_private_method',\n",
       " 'set_balance']"
      ]
     },
     "execution_count": 66,
     "metadata": {},
     "output_type": "execute_result"
    }
   ],
   "source": [
    "attributes=dir(obj)\n",
    "attributes"
   ]
  },
  {
   "cell_type": "code",
   "execution_count": 67,
   "id": "41e535f8-32cd-4c87-a355-063db5c8a608",
   "metadata": {},
   "outputs": [
    {
     "data": {
      "text/plain": [
       "['_Atm__balance',\n",
       " '_Atm__p_Methods',\n",
       " 'dummy_attribute',\n",
       " 'get_balance',\n",
       " 'new_method',\n",
       " 'pin',\n",
       " 'run_private_method',\n",
       " 'set_balance']"
      ]
     },
     "execution_count": 67,
     "metadata": {},
     "output_type": "execute_result"
    }
   ],
   "source": [
    "filtered_attributes = [attr for attr in attributes if not (attr.startswith('__') and attr.endswith('__'))]\n",
    "filtered_attributes"
   ]
  },
  {
   "cell_type": "code",
   "execution_count": 68,
   "id": "3c882a17-1450-4585-8c93-c3ea2d615ef5",
   "metadata": {},
   "outputs": [],
   "source": [
    "# adding the private attributes dynimically\n",
    "# Dynamically add a private attribute\n",
    "obj._Atm__cash = 90000"
   ]
  },
  {
   "cell_type": "code",
   "execution_count": 69,
   "id": "d3ee63c1-7e5c-48b5-aa28-7ae941aff58d",
   "metadata": {},
   "outputs": [],
   "source": [
    "# add the private methods to the objects \n",
    "def method_privates(self):\n",
    "    print(f\"hello yours pin is , {self.pin}!\")\n",
    "\n",
    "# Add the private method dynamically using name mangling\n",
    "obj._Atm__method_privates = method_privates.__get__(obj)"
   ]
  },
  {
   "cell_type": "code",
   "execution_count": 70,
   "id": "4356aefa-f5a1-4b1b-a1a8-11a933170e9b",
   "metadata": {},
   "outputs": [
    {
     "data": {
      "text/plain": [
       "['_Atm__balance',\n",
       " '_Atm__p_Methods',\n",
       " 'dummy_attribute',\n",
       " 'get_balance',\n",
       " 'new_method',\n",
       " 'pin',\n",
       " 'run_private_method',\n",
       " 'set_balance']"
      ]
     },
     "execution_count": 70,
     "metadata": {},
     "output_type": "execute_result"
    }
   ],
   "source": [
    "filtered_attributes = [attr for attr in attributes if not (attr.startswith('__') and attr.endswith('__'))]\n",
    "filtered_attributes"
   ]
  },
  {
   "cell_type": "markdown",
   "id": "9ffc030f-f0bf-44ba-b1ee-8ebc13426c39",
   "metadata": {},
   "source": [
    "# acess the private methods and attributes through the class names "
   ]
  },
  {
   "cell_type": "code",
   "execution_count": 71,
   "id": "91cec49c-bf45-409a-b55e-eec4baec4f29",
   "metadata": {},
   "outputs": [
    {
     "name": "stdout",
     "output_type": "stream",
     "text": [
      "20000\n",
      "hello yours pin is , 1234!\n"
     ]
    }
   ],
   "source": [
    "print(obj._Atm__balance)\n",
    "obj._Atm__method_privates()"
   ]
  },
  {
   "cell_type": "code",
   "execution_count": 75,
   "id": "9c4b7a72-a75e-4732-b04f-a30da65449aa",
   "metadata": {},
   "outputs": [
    {
     "name": "stdout",
     "output_type": "stream",
     "text": [
      " this is Private Methods\n"
     ]
    }
   ],
   "source": [
    "obj.run_private_method()"
   ]
  },
  {
   "cell_type": "markdown",
   "id": "468e9cfb-a498-404e-ac74-f83f03489ecf",
   "metadata": {},
   "source": [
    "# Deleting the attributes "
   ]
  },
  {
   "cell_type": "code",
   "execution_count": 76,
   "id": "0143db7b-6e6c-4021-8193-05f08d06cfad",
   "metadata": {},
   "outputs": [
    {
     "name": "stdout",
     "output_type": "stream",
     "text": [
      "\n",
      " deleted sucessfully\n"
     ]
    }
   ],
   "source": [
    "print(obj.pin)\n",
    "del obj.pin\n",
    "print(\" deleted sucessfully\")"
   ]
  },
  {
   "cell_type": "code",
   "execution_count": 77,
   "id": "5e1fe2b6-3b38-4bc4-930f-fff9131e6e11",
   "metadata": {},
   "outputs": [
    {
     "ename": "AttributeError",
     "evalue": "'Atm' object has no attribute 'pin'",
     "output_type": "error",
     "traceback": [
      "\u001b[1;31m---------------------------------------------------------------------------\u001b[0m",
      "\u001b[1;31mAttributeError\u001b[0m                            Traceback (most recent call last)",
      "Cell \u001b[1;32mIn[77], line 1\u001b[0m\n\u001b[1;32m----> 1\u001b[0m \u001b[43mobj\u001b[49m\u001b[38;5;241;43m.\u001b[39;49m\u001b[43mpin\u001b[49m\n",
      "\u001b[1;31mAttributeError\u001b[0m: 'Atm' object has no attribute 'pin'"
     ]
    }
   ],
   "source": [
    "obj.pin"
   ]
  },
  {
   "cell_type": "code",
   "execution_count": 78,
   "id": "842cb0dd-1da9-4bec-a9a2-928886ce43c9",
   "metadata": {},
   "outputs": [
    {
     "name": "stdout",
     "output_type": "stream",
     "text": [
      "0\n"
     ]
    },
    {
     "ename": "AttributeError",
     "evalue": "'Atm' object has no attribute '_Atm__balance'",
     "output_type": "error",
     "traceback": [
      "\u001b[1;31m---------------------------------------------------------------------------\u001b[0m",
      "\u001b[1;31mAttributeError\u001b[0m                            Traceback (most recent call last)",
      "Cell \u001b[1;32mIn[78], line 4\u001b[0m\n\u001b[0;32m      2\u001b[0m \u001b[38;5;28mprint\u001b[39m(obj\u001b[38;5;241m.\u001b[39m_Atm__balance)\n\u001b[0;32m      3\u001b[0m \u001b[38;5;28;01mdel\u001b[39;00m obj\u001b[38;5;241m.\u001b[39m_Atm__balance\n\u001b[1;32m----> 4\u001b[0m \u001b[38;5;28mprint\u001b[39m(\u001b[43mobj\u001b[49m\u001b[38;5;241;43m.\u001b[39;49m\u001b[43m_Atm__balance\u001b[49m)\n",
      "\u001b[1;31mAttributeError\u001b[0m: 'Atm' object has no attribute '_Atm__balance'"
     ]
    }
   ],
   "source": [
    "# deleting the private attributes \n",
    "print(obj._Atm__balance)\n",
    "del obj._Atm__balance\n",
    "print(obj._Atm__balance)"
   ]
  },
  {
   "cell_type": "markdown",
   "id": "a0d98215-c75e-4c3f-828e-7adff94e32f2",
   "metadata": {},
   "source": [
    "# Delete the methods"
   ]
  },
  {
   "cell_type": "code",
   "execution_count": null,
   "id": "c47dc3ff-9821-4d06-9f8f-786a4d18e977",
   "metadata": {},
   "outputs": [],
   "source": [
    "# Delete the method\n",
    "del obj.greet"
   ]
  },
  {
   "cell_type": "code",
   "execution_count": 80,
   "id": "fde1fb82-7dab-4b74-a63d-1bc695b91b64",
   "metadata": {},
   "outputs": [
    {
     "ename": "AttributeError",
     "evalue": "'Atm' object has no attribute '_Atm__get_balance'",
     "output_type": "error",
     "traceback": [
      "\u001b[1;31m---------------------------------------------------------------------------\u001b[0m",
      "\u001b[1;31mAttributeError\u001b[0m                            Traceback (most recent call last)",
      "Cell \u001b[1;32mIn[80], line 1\u001b[0m\n\u001b[1;32m----> 1\u001b[0m \u001b[43mobj\u001b[49m\u001b[38;5;241;43m.\u001b[39;49m\u001b[43m_Atm__get_balance\u001b[49m()\n",
      "\u001b[1;31mAttributeError\u001b[0m: 'Atm' object has no attribute '_Atm__get_balance'"
     ]
    }
   ],
   "source": [
    "obj._Atm__get_balance()"
   ]
  },
  {
   "cell_type": "code",
   "execution_count": 85,
   "id": "6d1797fb-7233-4f1f-b8c8-3e599937b468",
   "metadata": {},
   "outputs": [
    {
     "ename": "AttributeError",
     "evalue": "'Atm' object has no attribute 'set_balance'",
     "output_type": "error",
     "traceback": [
      "\u001b[1;31m---------------------------------------------------------------------------\u001b[0m",
      "\u001b[1;31mAttributeError\u001b[0m                            Traceback (most recent call last)",
      "Cell \u001b[1;32mIn[85], line 2\u001b[0m\n\u001b[0;32m      1\u001b[0m obj\u001b[38;5;241m.\u001b[39mset_balance(\u001b[38;5;241m30000\u001b[39m)\n\u001b[1;32m----> 2\u001b[0m \u001b[38;5;28;01mdel\u001b[39;00m \u001b[43mobj\u001b[49m\u001b[38;5;241;43m.\u001b[39;49m\u001b[43mset_balance\u001b[49m\n\u001b[0;32m      3\u001b[0m obj\u001b[38;5;241m.\u001b[39mset_balance(\u001b[38;5;241m12000\u001b[39m)\n",
      "\u001b[1;31mAttributeError\u001b[0m: 'Atm' object has no attribute 'set_balance'"
     ]
    }
   ],
   "source": [
    "obj.set_balance(30000)\n",
    "del obj.set_balance\n",
    "obj.set_balance(12000)"
   ]
  },
  {
   "cell_type": "code",
   "execution_count": 103,
   "id": "e68b3b44-fff8-45ac-8a3b-8413db7f22e3",
   "metadata": {},
   "outputs": [
    {
     "data": {
      "text/plain": [
       "['_Atm__balance', '_Atm__p_Methods', 'get_balance', 'set_balance']"
      ]
     },
     "execution_count": 103,
     "metadata": {},
     "output_type": "execute_result"
    }
   ],
   "source": [
    "attributes=dir(obj)\n",
    "filtered_attributes = [attr for attr in attributes if not (attr.startswith('__') and attr.endswith('__'))]\n",
    "filtered_attributes"
   ]
  },
  {
   "cell_type": "code",
   "execution_count": 87,
   "id": "f820c1fb-a7f1-4866-91e2-409d6c46ee1b",
   "metadata": {},
   "outputs": [],
   "source": [
    "obj.set_balance(10000)"
   ]
  },
  {
   "cell_type": "code",
   "execution_count": 90,
   "id": "5f86ac07-d214-4744-a6ae-ab42c88ec749",
   "metadata": {},
   "outputs": [
    {
     "ename": "AttributeError",
     "evalue": "'Atm' object has no attribute 'set_balance'",
     "output_type": "error",
     "traceback": [
      "\u001b[1;31m---------------------------------------------------------------------------\u001b[0m",
      "\u001b[1;31mAttributeError\u001b[0m                            Traceback (most recent call last)",
      "Cell \u001b[1;32mIn[90], line 1\u001b[0m\n\u001b[1;32m----> 1\u001b[0m \u001b[38;5;28;01mdel\u001b[39;00m \u001b[43mobj\u001b[49m\u001b[38;5;241;43m.\u001b[39;49m\u001b[43mset_balance\u001b[49m\n",
      "\u001b[1;31mAttributeError\u001b[0m: 'Atm' object has no attribute 'set_balance'"
     ]
    }
   ],
   "source": [
    "del obj.set_balance"
   ]
  },
  {
   "cell_type": "code",
   "execution_count": 98,
   "id": "17ee222c-a2b2-44ff-9fdf-1407cf46dbe8",
   "metadata": {},
   "outputs": [],
   "source": [
    "delattr(obj, 'balance') # delete the public attribute\n",
    "delattr(obj, '_Atm__private_balance')# delete the private attribute"
   ]
  },
  {
   "cell_type": "code",
   "execution_count": 97,
   "id": "f8b85465-a4b9-404b-ad74-a61cebdfb922",
   "metadata": {},
   "outputs": [],
   "source": [
    "obj.balance=20000\n",
    "obj._Atm__private_balance=40000"
   ]
  },
  {
   "cell_type": "code",
   "execution_count": 93,
   "id": "667d0dd0-e678-4016-95b7-e26bdbf667b2",
   "metadata": {},
   "outputs": [],
   "source": [
    "obj.run_private_method"
   ]
  },
  {
   "cell_type": "code",
   "execution_count": 102,
   "id": "0c7f645a-9a31-4486-acb4-b86bb6867431",
   "metadata": {},
   "outputs": [],
   "source": [
    "# Delete the method  \n",
    "del Atm.run_private_method"
   ]
  },
  {
   "cell_type": "code",
   "execution_count": 104,
   "id": "b1470e70-59f8-4804-bbae-221396f4e5b4",
   "metadata": {},
   "outputs": [
    {
     "name": "stdout",
     "output_type": "stream",
     "text": [
      " this is Private Methods\n"
     ]
    }
   ],
   "source": [
    "obj._Atm__p_Methods()"
   ]
  },
  {
   "cell_type": "code",
   "execution_count": 105,
   "id": "2faa996a-cdad-4a0b-a571-39f672a428f5",
   "metadata": {},
   "outputs": [
    {
     "name": "stdout",
     "output_type": "stream",
     "text": [
      " delete the private methods sucessfully\n"
     ]
    }
   ],
   "source": [
    "del Atm._Atm__p_Methods\n",
    "print(\" delete the private methods sucessfully\")"
   ]
  },
  {
   "cell_type": "code",
   "execution_count": 106,
   "id": "5e6e8256-de8a-410d-b9fe-57815c363082",
   "metadata": {},
   "outputs": [
    {
     "ename": "AttributeError",
     "evalue": "'Atm' object has no attribute '_Atm__p_Methods'",
     "output_type": "error",
     "traceback": [
      "\u001b[1;31m---------------------------------------------------------------------------\u001b[0m",
      "\u001b[1;31mAttributeError\u001b[0m                            Traceback (most recent call last)",
      "Cell \u001b[1;32mIn[106], line 1\u001b[0m\n\u001b[1;32m----> 1\u001b[0m \u001b[43mobj\u001b[49m\u001b[38;5;241;43m.\u001b[39;49m\u001b[43m_Atm__p_Methods\u001b[49m()\n",
      "\u001b[1;31mAttributeError\u001b[0m: 'Atm' object has no attribute '_Atm__p_Methods'"
     ]
    }
   ],
   "source": [
    "obj._Atm__p_Methods()"
   ]
  },
  {
   "cell_type": "code",
   "execution_count": 107,
   "id": "93fd8b98-c42c-478c-a6d9-d1c374a49714",
   "metadata": {},
   "outputs": [
    {
     "name": "stdout",
     "output_type": "stream",
     "text": [
      "2205224652912\n"
     ]
    }
   ],
   "source": [
    "obj2=Atm()"
   ]
  },
  {
   "cell_type": "code",
   "execution_count": null,
   "id": "2f0f8a69-5bb6-4f68-9816-54d4b93bc79c",
   "metadata": {},
   "outputs": [],
   "source": [
    "# we are delete from the objects only "
   ]
  }
 ],
 "metadata": {
  "kernelspec": {
   "display_name": "Python 3 (ipykernel)",
   "language": "python",
   "name": "python3"
  },
  "language_info": {
   "codemirror_mode": {
    "name": "ipython",
    "version": 3
   },
   "file_extension": ".py",
   "mimetype": "text/x-python",
   "name": "python",
   "nbconvert_exporter": "python",
   "pygments_lexer": "ipython3",
   "version": "3.12.6"
  }
 },
 "nbformat": 4,
 "nbformat_minor": 5
}
