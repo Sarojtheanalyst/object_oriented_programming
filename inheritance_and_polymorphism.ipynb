{
 "cells": [
  {
   "cell_type": "raw",
   "id": "7f222ff3-7b14-4364-9d95-333a7978daa2",
   "metadata": {},
   "source": [
    "Class Relationships\n",
    "Aggregation\n",
    "Inheritance"
   ]
  },
  {
   "cell_type": "markdown",
   "id": "a8d9d6bc-f4d9-4904-9890-f7c9ef23127d",
   "metadata": {},
   "source": [
    "# Aggregation(Has-A relationship)"
   ]
  },
  {
   "cell_type": "code",
   "execution_count": 7,
   "id": "b18c6006-e183-4e15-8d8d-01a2262b677d",
   "metadata": {},
   "outputs": [],
   "source": [
    "# customer has a address, person has a address \n",
    "class Customer:\n",
    "\n",
    "  def __init__(self,name,gender,address):\n",
    "    self.name = name\n",
    "    self.gender = gender\n",
    "    self.address = address  # attributes as a objcts  \n",
    "\n",
    "  def print_address(self):\n",
    "    print(self.address._Address__city,self.address.pin,self.address.state)\n",
    "\n",
    "  def edit_profile(self,new_name,new_city,new_pin,new_state):\n",
    "    self.name = new_name\n",
    "    self.address.edit_address(new_city,new_pin,new_state)\n",
    "\n",
    "  def excess_privates(self):\n",
    "      self.address._Address__private_method()\n",
    "\n",
    "class Address:\n",
    "\n",
    "  def __init__(self,city,pin,state):\n",
    "      self.__city = city\n",
    "      self.pin = pin\n",
    "      self.state = state\n",
    "\n",
    "  def get_city(self):\n",
    "    return self.__city\n",
    "\n",
    "  def edit_address(self,new_city,new_pin,new_state):\n",
    "    self.__city = new_city\n",
    "    self.pin = new_pin\n",
    "    self.state = new_state\n",
    "\n",
    "  def __private_method(self):\n",
    "      print(\" this is private methods of the address \")\n",
    "\n",
    "add1 = Address('gurgaon',122011,'haryana')\n",
    "cust = Customer('nitish','male',add1)"
   ]
  },
  {
   "cell_type": "code",
   "execution_count": 2,
   "id": "6aee1da0-ecb0-42af-b0fd-c2b6ee6272e3",
   "metadata": {},
   "outputs": [
    {
     "name": "stdout",
     "output_type": "stream",
     "text": [
      "gurgaon 122011 haryana\n"
     ]
    }
   ],
   "source": [
    "cust.print_address()"
   ]
  },
  {
   "cell_type": "code",
   "execution_count": 3,
   "id": "41a9d660-8a45-4a7b-b744-7eb04f09d833",
   "metadata": {},
   "outputs": [
    {
     "name": "stdout",
     "output_type": "stream",
     "text": [
      "mumbai 111111 maharastra\n"
     ]
    }
   ],
   "source": [
    "cust.edit_profile('ankit','mumbai',111111,'maharastra')\n",
    "cust.print_address()"
   ]
  },
  {
   "cell_type": "code",
   "execution_count": 8,
   "id": "759697fd-72db-411c-bb87-8d4b600272e8",
   "metadata": {},
   "outputs": [
    {
     "name": "stdout",
     "output_type": "stream",
     "text": [
      " this is private methods of the address \n"
     ]
    }
   ],
   "source": [
    "cust.excess_privates()"
   ]
  },
  {
   "cell_type": "raw",
   "id": "13b9237c-2312-4a60-96ce-a41e012a0931",
   "metadata": {},
   "source": [
    "Inheritance\r\n",
    "What is inheritance\r\n",
    "Example\r\n",
    "What gets inherited?"
   ]
  },
  {
   "cell_type": "code",
   "execution_count": 15,
   "id": "796d5923-5136-4003-afa7-ca904c375ea0",
   "metadata": {},
   "outputs": [],
   "source": [
    "# parent\n",
    "class User:\n",
    "\n",
    "  def __init__(self):\n",
    "    self.name = 'saroj'\n",
    "    self.gender = 'male'\n",
    "\n",
    "  def login(self):\n",
    "    print('login')\n",
    "\n",
    "# child\n",
    "class Student(User): # he Student class is inheriting properties and methods from the User class.\n",
    "\n",
    "  \"\"\"def __init__(self):\n",
    "    self.rollno = 100  \"\"\"\n",
    "\n",
    "  def enroll(self):\n",
    "    print('enroll into the course')\n"
   ]
  },
  {
   "cell_type": "code",
   "execution_count": 16,
   "id": "dd28545e-bc62-4f67-a7ef-63c358c71869",
   "metadata": {},
   "outputs": [],
   "source": [
    "u = User()\n",
    "s = Student()"
   ]
  },
  {
   "cell_type": "code",
   "execution_count": 17,
   "id": "d08e49d1-3cd5-4c0c-bc3b-44bdb763f908",
   "metadata": {},
   "outputs": [
    {
     "name": "stdout",
     "output_type": "stream",
     "text": [
      "saroj\n",
      "login\n",
      "enroll into the course\n"
     ]
    }
   ],
   "source": [
    "print(s.name)\n",
    "s.login()\n",
    "s.enroll()"
   ]
  },
  {
   "cell_type": "raw",
   "id": "370af227-579d-452c-b31a-921c4152233d",
   "metadata": {},
   "source": [
    "What gets inherited?\n",
    "  Constructor\n",
    "  Non Private Attributes\n",
    "  Non Private Methods"
   ]
  },
  {
   "cell_type": "markdown",
   "id": "57b009c4-244c-4f96-9cee-d933301ad579",
   "metadata": {},
   "source": [
    "# constructor example"
   ]
  },
  {
   "cell_type": "code",
   "execution_count": 19,
   "id": "90b3a70d-9682-4ac0-aa65-5e10d5d7a837",
   "metadata": {},
   "outputs": [
    {
     "name": "stdout",
     "output_type": "stream",
     "text": [
      "Inside phone constructor\n",
      "Buying a phone\n",
      "this is inside of the smart phones \n"
     ]
    }
   ],
   "source": [
    "# constructor example\n",
    "# parent classs \n",
    "class Phone:\n",
    "    def __init__(self, price, brand, camera):\n",
    "        print (\"Inside phone constructor\")\n",
    "        self.price = price\n",
    "        self.brand = brand\n",
    "        self.camera = camera\n",
    "\n",
    "    def buy(self):\n",
    "        print (\"Buying a phone\")\n",
    "\n",
    "# child class \n",
    "class SmartPhone(Phone):\n",
    "\n",
    "    def smart_phones(self):\n",
    "        print(\"this is inside of the smart phones \")\n",
    "\n",
    "s=SmartPhone(20000, \"Apple\", 13)\n",
    "s.buy()\n",
    "s.smart_phones()"
   ]
  },
  {
   "cell_type": "markdown",
   "id": "40b7fc23-1621-4deb-81a1-8fc55f3f6b19",
   "metadata": {},
   "source": [
    " # CASE 2  CONSTRUCTOR EXAMPLE 2 "
   ]
  },
  {
   "cell_type": "code",
   "execution_count": 20,
   "id": "d54a74bf-5068-4b8c-b113-b6e549d53ef1",
   "metadata": {},
   "outputs": [
    {
     "name": "stdout",
     "output_type": "stream",
     "text": [
      "Inside SmartPhone constructor\n"
     ]
    },
    {
     "ename": "AttributeError",
     "evalue": "'SmartPhone' object has no attribute 'brand'",
     "output_type": "error",
     "traceback": [
      "\u001b[1;31m---------------------------------------------------------------------------\u001b[0m",
      "\u001b[1;31mAttributeError\u001b[0m                            Traceback (most recent call last)",
      "Cell \u001b[1;32mIn[20], line 17\u001b[0m\n\u001b[0;32m     14\u001b[0m         \u001b[38;5;28mprint\u001b[39m (\u001b[38;5;124m\"\u001b[39m\u001b[38;5;124mInside SmartPhone constructor\u001b[39m\u001b[38;5;124m\"\u001b[39m)\n\u001b[0;32m     16\u001b[0m s\u001b[38;5;241m=\u001b[39mSmartPhone(\u001b[38;5;124m\"\u001b[39m\u001b[38;5;124mAndroid\u001b[39m\u001b[38;5;124m\"\u001b[39m, \u001b[38;5;241m2\u001b[39m)\n\u001b[1;32m---> 17\u001b[0m \u001b[43ms\u001b[49m\u001b[38;5;241;43m.\u001b[39;49m\u001b[43mbrand\u001b[49m\n",
      "\u001b[1;31mAttributeError\u001b[0m: 'SmartPhone' object has no attribute 'brand'"
     ]
    }
   ],
   "source": [
    "# CASE 2 EXAMPLES 2 # CONSTRUCTOR EXAMPLE 2 \n",
    "\n",
    "class Phone:\n",
    "    def __init__(self, price, brand, camera):\n",
    "        print (\"Inside phone constructor\")\n",
    "        self.__price = price\n",
    "        self.brand = brand\n",
    "        self.camera = camera\n",
    "\n",
    "class SmartPhone(Phone):\n",
    "    def __init__(self, os, ram):\n",
    "        self.os = os\n",
    "        self.ram = ram\n",
    "        print (\"Inside SmartPhone constructor\")\n",
    "\n",
    "s=SmartPhone(\"Android\", 2)\n",
    "s.brand"
   ]
  },
  {
   "cell_type": "markdown",
   "id": "fd956fba-8a8f-4739-b373-cc873c7ec394",
   "metadata": {},
   "source": [
    "# child can't access private members and the private methods  of the class"
   ]
  },
  {
   "cell_type": "code",
   "execution_count": 26,
   "id": "1db729c1-b18c-48a2-a217-7796c5dced8f",
   "metadata": {},
   "outputs": [
    {
     "name": "stdout",
     "output_type": "stream",
     "text": [
      "Inside phone constructor\n",
      "20000\n",
      "excess the non private attributes of the base class  \n",
      "Apple\n",
      "13\n",
      " this is private methods of the parent class \n"
     ]
    },
    {
     "ename": "AttributeError",
     "evalue": "'SmartPhone' object has no attribute '__private_methods'",
     "output_type": "error",
     "traceback": [
      "\u001b[1;31m---------------------------------------------------------------------------\u001b[0m",
      "\u001b[1;31mAttributeError\u001b[0m                            Traceback (most recent call last)",
      "Cell \u001b[1;32mIn[26], line 32\u001b[0m\n\u001b[0;32m     30\u001b[0m s\u001b[38;5;241m.\u001b[39mnon_private_attributes()\n\u001b[0;32m     31\u001b[0m s\u001b[38;5;241m.\u001b[39m_Phone__private_methods()  \u001b[38;5;66;03m# this we can access the private methods \u001b[39;00m\n\u001b[1;32m---> 32\u001b[0m \u001b[43ms\u001b[49m\u001b[38;5;241;43m.\u001b[39;49m\u001b[43m__private_methods\u001b[49m() \u001b[38;5;66;03m# this will raise the error we are trying to acess the private methods of the base class \u001b[39;00m\n",
      "\u001b[1;31mAttributeError\u001b[0m: 'SmartPhone' object has no attribute '__private_methods'"
     ]
    }
   ],
   "source": [
    "# child can't access private members and the private methods  of the class\n",
    "class Phone:\n",
    "    def __init__(self, price, brand, camera):\n",
    "        print (\"Inside phone constructor\")\n",
    "        self.__price = price\n",
    "        self.brand = brand\n",
    "        self.camera = camera\n",
    "\n",
    "    #getter methods   # but with the help of the getter methods we can access the private attributes of the base class\n",
    "    def show(self):\n",
    "        print (self.__price)\n",
    "\n",
    "    def __private_methods(self):\n",
    "        print(\" this is private methods of the parent class \")\n",
    "\n",
    "class SmartPhone(Phone):\n",
    "    def check(self):\n",
    "        print(self.__price)\n",
    "\n",
    "    def non_private_attributes(self):\n",
    "        print(\"excess the non private attributes of the base class  \")\n",
    "        print(self.brand)\n",
    "        print(self.camera)\n",
    "\n",
    "s=SmartPhone(20000, \"Apple\", 13)\n",
    "s.show()    # access the non private methods \n",
    "\n",
    "#s.check()   # we are trying to access the private attributes --> error raise \n",
    "\n",
    "s.non_private_attributes()\n",
    "s._Phone__private_methods()  # this we can access the private methods \n",
    "#s.__private_methods() # this will raise the error we are trying to acess the private methods of the base class "
   ]
  },
  {
   "cell_type": "markdown",
   "id": "13750196-020e-40c4-b28b-1b27276a6167",
   "metadata": {},
   "source": [
    "# example 3  No constructor in the child class automatically trigger the parent class"
   ]
  },
  {
   "cell_type": "code",
   "execution_count": 27,
   "id": "04e79497-c91a-444c-b55a-753a86865bc7",
   "metadata": {},
   "outputs": [
    {
     "name": "stdout",
     "output_type": "stream",
     "text": [
      "100\n",
      "This is in child class\n"
     ]
    }
   ],
   "source": [
    "class Parent:\n",
    "\n",
    "    def __init__(self,num):\n",
    "        self.__num=num\n",
    "\n",
    "    def get_num(self):\n",
    "        return self.__num\n",
    "\n",
    "class Child(Parent):\n",
    "\n",
    "    def show(self):\n",
    "        print(\"This is in child class\")\n",
    "        \n",
    "son=Child(100)\n",
    "print(son.get_num())\n",
    "son.show()"
   ]
  },
  {
   "cell_type": "markdown",
   "id": "7cc8f499-5c8a-4be0-a704-0e896d4e95e6",
   "metadata": {},
   "source": [
    "# case if the both parent and child has the constructor -> automatically trigger the child class constructor"
   ]
  },
  {
   "cell_type": "code",
   "execution_count": 28,
   "id": "4d4f5d09-c0f0-4a86-990b-6a576336695f",
   "metadata": {},
   "outputs": [
    {
     "name": "stdout",
     "output_type": "stream",
     "text": [
      "Child: Val: 100\n"
     ]
    },
    {
     "ename": "AttributeError",
     "evalue": "'Child' object has no attribute '_Parent__num'",
     "output_type": "error",
     "traceback": [
      "\u001b[1;31m---------------------------------------------------------------------------\u001b[0m",
      "\u001b[1;31mAttributeError\u001b[0m                            Traceback (most recent call last)",
      "Cell \u001b[1;32mIn[28], line 19\u001b[0m\n\u001b[0;32m     17\u001b[0m son\u001b[38;5;241m=\u001b[39mChild(\u001b[38;5;241m100\u001b[39m,\u001b[38;5;241m10\u001b[39m)\n\u001b[0;32m     18\u001b[0m \u001b[38;5;28mprint\u001b[39m(\u001b[38;5;124m\"\u001b[39m\u001b[38;5;124mChild: Val:\u001b[39m\u001b[38;5;124m\"\u001b[39m,son\u001b[38;5;241m.\u001b[39mget_val())\n\u001b[1;32m---> 19\u001b[0m \u001b[38;5;28mprint\u001b[39m(\u001b[38;5;124m\"\u001b[39m\u001b[38;5;124mParent: Num:\u001b[39m\u001b[38;5;124m\"\u001b[39m,\u001b[43mson\u001b[49m\u001b[38;5;241;43m.\u001b[39;49m\u001b[43mget_num\u001b[49m\u001b[43m(\u001b[49m\u001b[43m)\u001b[49m)\n",
      "Cell \u001b[1;32mIn[28], line 7\u001b[0m, in \u001b[0;36mParent.get_num\u001b[1;34m(self)\u001b[0m\n\u001b[0;32m      6\u001b[0m \u001b[38;5;28;01mdef\u001b[39;00m \u001b[38;5;21mget_num\u001b[39m(\u001b[38;5;28mself\u001b[39m):\n\u001b[1;32m----> 7\u001b[0m     \u001b[38;5;28;01mreturn\u001b[39;00m \u001b[38;5;28;43mself\u001b[39;49m\u001b[38;5;241;43m.\u001b[39;49m\u001b[43m__num\u001b[49m\n",
      "\u001b[1;31mAttributeError\u001b[0m: 'Child' object has no attribute '_Parent__num'"
     ]
    }
   ],
   "source": [
    "class Parent:\n",
    "\n",
    "    def __init__(self,num):\n",
    "        self.__num=num\n",
    "\n",
    "    def get_num(self):\n",
    "        return self.__num\n",
    "\n",
    "class Child(Parent):\n",
    "\n",
    "    def __init__(self,val,num):\n",
    "        self.__val=val\n",
    "\n",
    "    def get_val(self):\n",
    "        return self.__val\n",
    "        \n",
    "son=Child(100,10)\n",
    "print(\"Child: Val:\",son.get_val())\n",
    "print(\"Parent: Num:\",son.get_num())"
   ]
  },
  {
   "cell_type": "code",
   "execution_count": 29,
   "id": "a6e02ff2-b835-4911-838a-ee4991b74e24",
   "metadata": {},
   "outputs": [
    {
     "name": "stdout",
     "output_type": "stream",
     "text": [
      "class A : 100\n"
     ]
    }
   ],
   "source": [
    "# examples 1 \n",
    "class A:\n",
    "    def __init__(self):\n",
    "        self.var1=100\n",
    "\n",
    "    def display1(self,var1):\n",
    "        print(\"class A :\", self.var1)\n",
    "class B(A):                   \n",
    "  \n",
    "    def display2(self,var1):\n",
    "        print(\"class B :\", self.var1)\n",
    "\n",
    "obj=B()\n",
    "obj.display1(200)"
   ]
  },
  {
   "cell_type": "markdown",
   "id": "3fbaa3ed-6bed-46a0-be48-f6cad423e390",
   "metadata": {},
   "source": [
    "# Method Overriding"
   ]
  },
  {
   "cell_type": "code",
   "execution_count": 30,
   "id": "06c05d56-5b36-411c-923d-e82578e1e66a",
   "metadata": {},
   "outputs": [
    {
     "name": "stdout",
     "output_type": "stream",
     "text": [
      "Inside phone constructor\n",
      "Buying a smartphone\n"
     ]
    }
   ],
   "source": [
    "# Method Overriding\n",
    "class Phone:\n",
    "    def __init__(self, price, brand, camera):\n",
    "        print (\"Inside phone constructor\")\n",
    "        self.__price = price\n",
    "        self.brand = brand\n",
    "        self.camera = camera\n",
    "\n",
    "    def buy(self):\n",
    "        print (\"Buying a phone\")\n",
    "\n",
    "class SmartPhone(Phone):\n",
    "    def buy(self):\n",
    "        print (\"Buying a smartphone\")\n",
    "\n",
    "s=SmartPhone(20000, \"Apple\", 13)\n",
    "\n",
    "s.buy()"
   ]
  },
  {
   "cell_type": "markdown",
   "id": "f6ca784c-62da-4100-9c91-916a6973e9e3",
   "metadata": {},
   "source": [
    "# No constructor trigger in the parent class if there is constructor in the child class --> solve by Super Keyword"
   ]
  },
  {
   "cell_type": "code",
   "execution_count": 31,
   "id": "457d0fe7-4eb5-4295-80b0-d56de32dfcc8",
   "metadata": {},
   "outputs": [
    {
     "name": "stdout",
     "output_type": "stream",
     "text": [
      "Inside phone constructor\n",
      "Buying a smartphone\n",
      "Buying a phone\n"
     ]
    }
   ],
   "source": [
    "class Phone:\n",
    "    def __init__(self, price, brand, camera):\n",
    "        print (\"Inside phone constructor\")\n",
    "        self.__price = price\n",
    "        self.brand = brand\n",
    "        self.camera = camera\n",
    "\n",
    "    def buy(self):\n",
    "        print (\"Buying a phone\")\n",
    "\n",
    "class SmartPhone(Phone):\n",
    "    def buy(self):\n",
    "        print (\"Buying a smartphone\")\n",
    "        \n",
    "        # syntax to call parent class  buy method\n",
    "        super().buy()\n",
    "        #print(super.__price)   # we are trying to access the attributes \n",
    "\n",
    "s=SmartPhone(20000, \"Apple\", 13)\n",
    "\n",
    "s.buy()\n",
    "# super.buy()  # we are using super outside of the class "
   ]
  },
  {
   "cell_type": "raw",
   "id": "a6418f0a-804e-472c-92f4-a347ab061aff",
   "metadata": {},
   "source": [
    "# properties of the super class\n",
    "\n",
    "### super cannot access the variables\n",
    "### super cannot be use outside of the class\n",
    "### super can be used inside of the child class"
   ]
  },
  {
   "cell_type": "markdown",
   "id": "9b4e26cb-6b28-4fcc-a22c-f9aa3f7709fa",
   "metadata": {},
   "source": [
    "#  super -> constuctor  ( trigger the constructor of the parent class if there is also constructor in child class )"
   ]
  },
  {
   "cell_type": "code",
   "execution_count": 34,
   "id": "fbe74bbc-ef25-4137-8fce-48684b970680",
   "metadata": {},
   "outputs": [
    {
     "name": "stdout",
     "output_type": "stream",
     "text": [
      "Inside smartphone constructor\n",
      "Inside phone constructor\n",
      "Inside smartphone constructor\n",
      "Android\n",
      "Samsung\n",
      "12\n",
      "20000\n"
     ]
    }
   ],
   "source": [
    "class Phone:\n",
    "    def __init__(self, price, brand, camera):\n",
    "        print (\"Inside phone constructor\")\n",
    "        self.__price = price\n",
    "        self.brand = brand\n",
    "        self.camera = camera\n",
    "\n",
    "class SmartPhone(Phone):\n",
    "    def __init__(self, price, brand, camera, os, ram):\n",
    "        print('Inside smartphone constructor')\n",
    "        super().__init__(price, brand, camera)\n",
    "        self.os = os\n",
    "        self.ram = ram\n",
    "        print (\"Inside smartphone constructor\")\n",
    "\n",
    "s=SmartPhone(20000, \"Samsung\", 12, \"Android\", 2)\n",
    "\n",
    "print(s.os)\n",
    "print(s.brand)\n",
    "print(s.camera)\n",
    "print(s._Phone__price)  # we can access the private attribute also "
   ]
  },
  {
   "cell_type": "code",
   "execution_count": null,
   "id": "2e40102d-39a0-4faf-9c70-59f9573fe348",
   "metadata": {},
   "outputs": [],
   "source": [
    "# s. tab  # we can acess all the non private attributes of the objects "
   ]
  },
  {
   "cell_type": "code",
   "execution_count": 35,
   "id": "7dd0d0e4-e8d1-420e-a9ea-6cf52de7fd27",
   "metadata": {},
   "outputs": [
    {
     "name": "stdout",
     "output_type": "stream",
     "text": [
      "100\n",
      "200\n"
     ]
    }
   ],
   "source": [
    "# practice problems 1 \n",
    "class Parent:\n",
    "\n",
    "    def __init__(self,num):\n",
    "      self.__num=num\n",
    "\n",
    "    def get_num(self):\n",
    "      return self.__num\n",
    "\n",
    "class Child(Parent):\n",
    "  \n",
    "    def __init__(self,num,val):\n",
    "      super().__init__(num)\n",
    "      self.__val=val\n",
    "\n",
    "    def get_val(self):\n",
    "      return self.__val\n",
    "      \n",
    "son=Child(100,200)\n",
    "print(son.get_num())\n",
    "print(son.get_val())"
   ]
  },
  {
   "cell_type": "code",
   "execution_count": 36,
   "id": "3fa3d4ae-e1ea-4d0b-9d82-5a91c5d812d0",
   "metadata": {},
   "outputs": [
    {
     "name": "stdout",
     "output_type": "stream",
     "text": [
      "100\n",
      "200\n"
     ]
    }
   ],
   "source": [
    "# practice examples 2 \n",
    "class Parent:\n",
    "    def __init__(self):\n",
    "        self.num=100\n",
    "\n",
    "class Child(Parent):\n",
    "\n",
    "    def __init__(self):\n",
    "        super().__init__()\n",
    "        self.var=200\n",
    "        \n",
    "    def show(self):\n",
    "        print(self.num)\n",
    "        print(self.var)\n",
    "\n",
    "son=Child()\n",
    "son.show()"
   ]
  },
  {
   "cell_type": "code",
   "execution_count": 37,
   "id": "bc8286f6-5b41-4a83-8b09-4889ea55212d",
   "metadata": {},
   "outputs": [
    {
     "name": "stdout",
     "output_type": "stream",
     "text": [
      "Child: 10\n"
     ]
    }
   ],
   "source": [
    "# practice example 3 \n",
    "class Parent:\n",
    "    def __init__(self):\n",
    "        self.__num=100\n",
    "\n",
    "    def show(self):\n",
    "        print(\"Parent:\",self.__num)\n",
    "\n",
    "class Child(Parent):\n",
    "    def __init__(self):\n",
    "        super().__init__()\n",
    "        self.__var=10\n",
    "\n",
    "    def show(self):\n",
    "        print(\"Child:\",self.__var)\n",
    "\n",
    "obj=Child()\n",
    "obj.show()"
   ]
  },
  {
   "cell_type": "code",
   "execution_count": 38,
   "id": "dcdf8c0b-029f-455e-961b-8ae1bbf6109f",
   "metadata": {},
   "outputs": [
    {
     "name": "stdout",
     "output_type": "stream",
     "text": [
      "Parent: 100\n",
      "Child: 10\n"
     ]
    }
   ],
   "source": [
    "# practice example 4 \n",
    "class Parent:\n",
    "    def __init__(self):\n",
    "        self.__num=100\n",
    "\n",
    "    def show(self):\n",
    "        print(\"Parent:\",self.__num)\n",
    "\n",
    "class Child(Parent):\n",
    "    def __init__(self):\n",
    "        super().__init__()\n",
    "        self.__var=10\n",
    "\n",
    "    def show(self):\n",
    "        super().show()\n",
    "        print(\"Child:\",self.__var)\n",
    "\n",
    "obj=Child()\n",
    "obj.show()"
   ]
  },
  {
   "cell_type": "raw",
   "id": "0dae75c1-6f4c-4d81-872a-c2be3ba1fde7",
   "metadata": {},
   "source": [
    "Types of Inheritance\n",
    "  Single Inheritance\n",
    "  Multilevel Inheritance\n",
    "  Hierarchical Inheritance\n",
    "  Multiple Inheritance(Diamond Problem)\n",
    "  Hybrid Inheritance"
   ]
  },
  {
   "cell_type": "markdown",
   "id": "238f9454-af0d-40c8-8ad1-b84bdfe38515",
   "metadata": {},
   "source": [
    "# single inheritance"
   ]
  },
  {
   "cell_type": "code",
   "execution_count": 40,
   "id": "46a6134c-3b4c-4608-83f7-e7d2197bbf3f",
   "metadata": {},
   "outputs": [
    {
     "name": "stdout",
     "output_type": "stream",
     "text": [
      "Inside phone constructor\n",
      "Buying a phone\n"
     ]
    }
   ],
   "source": [
    "# single inheritance\n",
    "class Phone:\n",
    "    def __init__(self, price, brand, camera):\n",
    "        print (\"Inside phone constructor\")\n",
    "        self.__price = price\n",
    "        self.brand = brand\n",
    "        self.camera = camera\n",
    "\n",
    "    def buy(self):\n",
    "        print (\"Buying a phone\")\n",
    "\n",
    "class SmartPhone(Phone):\n",
    "    pass\n",
    "\n",
    "SmartPhone(1000,\"Apple\",\"13px\").buy()"
   ]
  },
  {
   "cell_type": "markdown",
   "id": "b370568b-7d46-4b5a-9118-b127f03a0d80",
   "metadata": {},
   "source": [
    "# multilevel"
   ]
  },
  {
   "cell_type": "code",
   "execution_count": null,
   "id": "2741f327-79db-4f77-b70f-36fe81adcc9b",
   "metadata": {},
   "outputs": [],
   "source": [
    "# multilevel  examples 1 \n",
    "class Product:\n",
    "    def review(self):\n",
    "        print (\"Product customer review\")\n",
    "\n",
    "class Phone(Product):\n",
    "    def __init__(self, price, brand, camera):\n",
    "        print (\"Inside phone constructor\")\n",
    "        self.__price = price\n",
    "        self.brand = brand\n",
    "        self.camera = camera\n",
    "\n",
    "    def buy(self):\n",
    "        print (\"Buying a phone\")\n",
    "\n",
    "class SmartPhone(Phone):\n",
    "    pass\n",
    "\n",
    "s=SmartPhone(20000, \"Apple\", 12)\n",
    "\n",
    "s.buy()  # phone class methods called     father level method called \n",
    "s.review()  # product class method called    grand father method called "
   ]
  },
  {
   "cell_type": "code",
   "execution_count": 43,
   "id": "26d62966-055b-4d89-9c9b-d7797df29d06",
   "metadata": {},
   "outputs": [
    {
     "name": "stdout",
     "output_type": "stream",
     "text": [
      "grand father (main parent) constructor called\n",
      "Inside phone constructor\n",
      "Buying a phone\n",
      "Product customer review\n"
     ]
    }
   ],
   "source": [
    "# multilevel  examples 2\n",
    "class Product:\n",
    "\n",
    "    def __init__(self):\n",
    "        print(\"grand father (main parent) constructor called\")\n",
    "        \n",
    "    def review(self):\n",
    "        print (\"Product customer review\")\n",
    "\n",
    "class Phone(Product):\n",
    "    def __init__(self, price, brand, camera):\n",
    "        super().__init__()\n",
    "        print (\"Inside phone constructor\")\n",
    "        self.__price = price\n",
    "        self.brand = brand\n",
    "        self.camera = camera\n",
    "\n",
    "    def buy(self):\n",
    "        print (\"Buying a phone\")\n",
    "\n",
    "class SmartPhone(Phone):\n",
    "    pass\n",
    "\n",
    "s=SmartPhone(20000, \"Apple\", 12)\n",
    "\n",
    "s.buy()  # phone class methods called     father level method called \n",
    "s.review()  # product class method called    grand father method called "
   ]
  },
  {
   "cell_type": "code",
   "execution_count": 49,
   "id": "df1b995b-daf4-43ee-a824-ae852929b2d8",
   "metadata": {},
   "outputs": [
    {
     "name": "stdout",
     "output_type": "stream",
     "text": [
      "this is grand father class buy() methods \n",
      "this is father class buy() methods \n",
      "this is child class buy() methods \n"
     ]
    }
   ],
   "source": [
    "# multilevel  examples 2  --> method over ridings   \n",
    "class Product:\n",
    "    def buy(self):\n",
    "        print (\"this is grand father class buy() methods \")\n",
    "\n",
    "class Phone(Product):\n",
    "    \n",
    "    def buy(self):\n",
    "        super().buy()\n",
    "        print (\"this is father class buy() methods \")\n",
    "\n",
    "class SmartPhone(Phone):\n",
    "    \n",
    "    def buy(self):\n",
    "        super().buy()\n",
    "        print(\"this is child class buy() methods \")\n",
    "\n",
    "s=SmartPhone()\n",
    "\n",
    "s.buy()          "
   ]
  },
  {
   "cell_type": "code",
   "execution_count": 50,
   "id": "f90879b4-4ed8-4e1b-b19b-90286fdf9fd9",
   "metadata": {},
   "outputs": [],
   "source": [
    "class Product:\n",
    "    def buy(self):\n",
    "        print (\"this is grand father class buy() methods \")\n",
    "\n",
    "class Phone(Product):\n",
    "    \n",
    "    def buy(self):\n",
    "        super().buy()\n",
    "        print (\"this is father class buy() methods \")\n",
    "\n",
    "class SmartPhone(Phone):\n",
    "    \n",
    "    def buy(self):\n",
    "        super().buy()\n",
    "        print(\"this is child class buy() methods \")\n",
    "\n",
    "\n",
    "p=Product()\n",
    "ph=Phone()\n",
    "s=SmartPhone()\n"
   ]
  },
  {
   "cell_type": "code",
   "execution_count": 51,
   "id": "8d213508-fd81-4cbb-8a4e-a556b2cc7af7",
   "metadata": {},
   "outputs": [
    {
     "name": "stdout",
     "output_type": "stream",
     "text": [
      "this is grand father class buy() methods \n"
     ]
    }
   ],
   "source": [
    "p.buy()"
   ]
  },
  {
   "cell_type": "code",
   "execution_count": 52,
   "id": "2b408e44-27b9-48b5-b11b-d340b49c7492",
   "metadata": {},
   "outputs": [
    {
     "name": "stdout",
     "output_type": "stream",
     "text": [
      "this is grand father class buy() methods \n",
      "this is father class buy() methods \n"
     ]
    }
   ],
   "source": [
    "ph.buy()"
   ]
  },
  {
   "cell_type": "code",
   "execution_count": 53,
   "id": "45af7ae5-cca6-4ecf-88f6-7a794d18ab9e",
   "metadata": {},
   "outputs": [
    {
     "name": "stdout",
     "output_type": "stream",
     "text": [
      "this is grand father class buy() methods \n",
      "this is father class buy() methods \n",
      "this is child class buy() methods \n"
     ]
    }
   ],
   "source": [
    "s.buy()"
   ]
  },
  {
   "cell_type": "markdown",
   "id": "4c6a58a7-f3f5-4082-8340-0b21cf12b435",
   "metadata": {},
   "source": [
    "# Hierarchical "
   ]
  },
  {
   "cell_type": "code",
   "execution_count": 57,
   "id": "d7ff61e1-2ff6-48bf-939e-70e2b49f1c56",
   "metadata": {},
   "outputs": [
    {
     "name": "stdout",
     "output_type": "stream",
     "text": [
      "object_created \n",
      "\n",
      "Inside phone constructor\n",
      "Inside phone constructor\n",
      "--------------------------------------------------\n",
      "for the smartphone class \n",
      "Apple\n",
      "13px\n",
      "Buying a phone\n",
      "--------------------------------------------------\n",
      "for the feature_phone class \n",
      "Lava\n",
      "1px\n",
      "Buying a phone\n"
     ]
    }
   ],
   "source": [
    "# Hierarchical\n",
    "class Phone:\n",
    "    def __init__(self, price, brand, camera):\n",
    "        print (\"Inside phone constructor\")\n",
    "        self.__price = price\n",
    "        self.brand = brand\n",
    "        self.camera = camera\n",
    "\n",
    "    def buy(self):\n",
    "        print (\"Buying a phone\")\n",
    "\n",
    "class SmartPhone(Phone):\n",
    "    pass\n",
    "\n",
    "class FeaturePhone(Phone):\n",
    "    pass\n",
    "\n",
    "print(\"object_created \\n\")\n",
    "s=SmartPhone(1000,\"Apple\",\"13px\")\n",
    "f=FeaturePhone(10,\"Lava\",\"1px\")\n",
    "print(\"-\"*50)\n",
    "print(\"for the smartphone class \" )\n",
    "print(s.brand)\n",
    "print(s.camera)\n",
    "s.buy()\n",
    "\n",
    "print(\"-\"*50)\n",
    "print(\"for the feature_phone class \" )\n",
    "print(f.brand)\n",
    "print(f.camera)\n",
    "f.buy()"
   ]
  },
  {
   "cell_type": "markdown",
   "id": "e0f292ea-283f-4304-9d75-189ca23f3c86",
   "metadata": {},
   "source": [
    "# Multiple"
   ]
  },
  {
   "cell_type": "code",
   "execution_count": 58,
   "id": "31625b39-c2b8-4271-a4e8-93de88fac1c0",
   "metadata": {},
   "outputs": [
    {
     "name": "stdout",
     "output_type": "stream",
     "text": [
      "Inside phone constructor\n",
      "Buying a phone\n",
      "Customer review\n"
     ]
    }
   ],
   "source": [
    "# Multiple  --> 2 parent class  1 child class (dad, mom ) engineer or doctor \n",
    "class Phone:\n",
    "    def __init__(self, price, brand, camera):\n",
    "        print (\"Inside phone constructor\")\n",
    "        self.__price = price\n",
    "        self.brand = brand\n",
    "        self.camera = camera\n",
    "\n",
    "    def buy(self):\n",
    "        print (\"Buying a phone\")\n",
    "\n",
    "class Product:\n",
    "    def review(self):\n",
    "        print (\"Customer review\")\n",
    "\n",
    "class SmartPhone(Phone, Product):\n",
    "    pass\n",
    "\n",
    "s=SmartPhone(20000, \"Apple\", 12)\n",
    "\n",
    "s.buy()\n",
    "s.review()"
   ]
  },
  {
   "cell_type": "markdown",
   "id": "99c1edc3-a5ad-4918-ac6e-87e28c5fccf8",
   "metadata": {},
   "source": [
    "# diamond problem arises  ambuguity for method overriding"
   ]
  },
  {
   "cell_type": "code",
   "execution_count": 60,
   "id": "912094a4-2005-44c8-b8be-dc7ca447b6e0",
   "metadata": {},
   "outputs": [
    {
     "name": "stdout",
     "output_type": "stream",
     "text": [
      "Inside phone constructor\n",
      "Inside phone constructor\n",
      "Buying a phone\n",
      "Product buy method\n"
     ]
    }
   ],
   "source": [
    "class Phone:\n",
    "    def __init__(self, price, brand, camera):\n",
    "        print (\"Inside phone constructor\")\n",
    "        self.__price = price\n",
    "        self.brand = brand\n",
    "        self.camera = camera\n",
    "\n",
    "    def buy(self):\n",
    "        print (\"Buying a phone\")\n",
    "\n",
    "class Product:\n",
    "    def buy(self):\n",
    "        print (\"Product buy method\")\n",
    "\n",
    "# Method resolution order\n",
    "class SmartPhone(Phone,Product):  # left class has the prirority more than the right class \n",
    "    pass\n",
    "\n",
    "class PhoneSmart(Product,Phone):\n",
    "    pass\n",
    "\n",
    "s=SmartPhone(20000, \"Apple\", 12)\n",
    "p=PhoneSmart(40000, \"lava\", 13)\n",
    "s.buy()\n",
    "p.buy()"
   ]
  },
  {
   "cell_type": "code",
   "execution_count": 61,
   "id": "0e67e948-0a54-4e4a-9817-7132ae857581",
   "metadata": {},
   "outputs": [
    {
     "name": "stdout",
     "output_type": "stream",
     "text": [
      "Inside phone constructor\n"
     ]
    }
   ],
   "source": [
    "# in case of the constructor\n",
    "class Phone:\n",
    "    def __init__(self):\n",
    "        print (\"Inside phone constructor\")\n",
    "    \n",
    "class Product:\n",
    "     def __init__(self):\n",
    "        print (\"Inside product constructor\")\n",
    "    \n",
    "\n",
    "class SmartPhone(Phone,Product):  # left class has the prirority more than the right class \n",
    "    pass\n",
    "\n",
    "s=SmartPhone()"
   ]
  },
  {
   "cell_type": "code",
   "execution_count": 62,
   "id": "ecc92e4f-a9bf-4c17-8333-d4e15187db4e",
   "metadata": {},
   "outputs": [
    {
     "name": "stdout",
     "output_type": "stream",
     "text": [
      "Inside product constructor\n"
     ]
    }
   ],
   "source": [
    "# in case of the constructor  --. same as the method overridings \n",
    "class Phone:\n",
    "    def __init__(self):\n",
    "        print (\"Inside phone constructor\")\n",
    "    \n",
    "class Product:\n",
    "     def __init__(self):\n",
    "        print (\"Inside product constructor\")\n",
    "    \n",
    "\n",
    "class SmartPhone(Product,Phone):  # left class has the prirority more than the right class \n",
    "    pass\n",
    "\n",
    "s=SmartPhone()"
   ]
  },
  {
   "cell_type": "code",
   "execution_count": 64,
   "id": "1b55e7e1-c6d6-429d-a784-29073b92f5b4",
   "metadata": {},
   "outputs": [
    {
     "name": "stdout",
     "output_type": "stream",
     "text": [
      "Inside phone constructor\n",
      "Inside product constructor\n"
     ]
    }
   ],
   "source": [
    "# in case of the constructor  --. same as the method overridings \n",
    "class Phone:\n",
    "    def __init__(self):\n",
    "        print (\"Inside phone constructor\")\n",
    "    \n",
    "class Product:\n",
    "     def __init__(self):\n",
    "        super().__init__()  # Phone parent is phone constructor ?  \n",
    "        print (\"Inside product constructor\")\n",
    "    \n",
    "\n",
    "class SmartPhone(Product,Phone):  # left class has the prirority more than the right class \n",
    "    pass\n",
    "\n",
    "s=SmartPhone()"
   ]
  },
  {
   "cell_type": "code",
   "execution_count": 65,
   "id": "bbb3f5a4-0802-4df4-be17-a251fa977af3",
   "metadata": {},
   "outputs": [
    {
     "name": "stdout",
     "output_type": "stream",
     "text": [
      "Inside product constructor\n",
      "Inside phone constructor\n"
     ]
    }
   ],
   "source": [
    "# in case of the constructor  --. same as the method overridings \n",
    "class Phone:\n",
    "    def __init__(self):\n",
    "        super().__init__() \n",
    "        print (\"Inside phone constructor\")\n",
    "    \n",
    "class Product:\n",
    "     def __init__(self):\n",
    "        print (\"Inside product constructor\")\n",
    "    \n",
    "\n",
    "class SmartPhone(Phone,Product):  # left class has the prirority more than the right class \n",
    "    pass\n",
    "\n",
    "s=SmartPhone()"
   ]
  },
  {
   "cell_type": "code",
   "execution_count": 66,
   "id": "504833cb-2a74-4efd-a578-dfdfba33ecc9",
   "metadata": {},
   "outputs": [
    {
     "name": "stdout",
     "output_type": "stream",
     "text": [
      "70\n"
     ]
    }
   ],
   "source": [
    "class A:\n",
    "\n",
    "    def m1(self):\n",
    "        return 20\n",
    "\n",
    "class B(A):\n",
    "\n",
    "    def m1(self):\n",
    "        return 30\n",
    "\n",
    "    def m2(self):\n",
    "        return 40\n",
    "\n",
    "class C(B):\n",
    "  \n",
    "    def m2(self):\n",
    "        return 20\n",
    "obj1=A()\n",
    "obj2=B()\n",
    "obj3=C()\n",
    "print(obj1.m1() + obj3.m1()+ obj3.m2())  # 20 30  20"
   ]
  },
  {
   "cell_type": "code",
   "execution_count": 67,
   "id": "3f483422-e1fd-42ef-a7e0-2994da58250a",
   "metadata": {},
   "outputs": [
    {
     "name": "stdout",
     "output_type": "stream",
     "text": [
      " this is grand father constructor\n"
     ]
    }
   ],
   "source": [
    "# Experiments \n",
    "\n",
    "class A:\n",
    "    def __init__(self):\n",
    "        print(\" this is grand father constructor\")\n",
    "\n",
    "class B(A):\n",
    "\n",
    "    def class_B(self):\n",
    "        print(\" this is normal methods inside class B \")\n",
    "\n",
    "class C(B):\n",
    "  \n",
    "    def class_C(self):\n",
    "        print(\" thisis normal methods inside class c \")\n",
    "        \n",
    "\n",
    "obj3=C()"
   ]
  },
  {
   "cell_type": "code",
   "execution_count": 68,
   "id": "61c32d2c-ff98-4771-98ab-2d7214081c6f",
   "metadata": {},
   "outputs": [
    {
     "ename": "RecursionError",
     "evalue": "maximum recursion depth exceeded",
     "output_type": "error",
     "traceback": [
      "\u001b[1;31m---------------------------------------------------------------------------\u001b[0m",
      "\u001b[1;31mRecursionError\u001b[0m                            Traceback (most recent call last)",
      "Cell \u001b[1;32mIn[68], line 18\u001b[0m\n\u001b[0;32m     16\u001b[0m         \u001b[38;5;28;01mreturn\u001b[39;00m val\n\u001b[0;32m     17\u001b[0m obj\u001b[38;5;241m=\u001b[39mC()\n\u001b[1;32m---> 18\u001b[0m \u001b[38;5;28mprint\u001b[39m(\u001b[43mobj\u001b[49m\u001b[38;5;241;43m.\u001b[39;49m\u001b[43mm1\u001b[49m\u001b[43m(\u001b[49m\u001b[43m)\u001b[49m)\n",
      "Cell \u001b[1;32mIn[68], line 15\u001b[0m, in \u001b[0;36mC.m1\u001b[1;34m(self)\u001b[0m\n\u001b[0;32m     14\u001b[0m \u001b[38;5;28;01mdef\u001b[39;00m \u001b[38;5;21mm1\u001b[39m(\u001b[38;5;28mself\u001b[39m):\n\u001b[1;32m---> 15\u001b[0m     val\u001b[38;5;241m=\u001b[39m\u001b[38;5;28;43mself\u001b[39;49m\u001b[38;5;241;43m.\u001b[39;49m\u001b[43mm1\u001b[49m\u001b[43m(\u001b[49m\u001b[43m)\u001b[49m\u001b[38;5;241m+\u001b[39m\u001b[38;5;241m20\u001b[39m\n\u001b[0;32m     16\u001b[0m     \u001b[38;5;28;01mreturn\u001b[39;00m val\n",
      "Cell \u001b[1;32mIn[68], line 15\u001b[0m, in \u001b[0;36mC.m1\u001b[1;34m(self)\u001b[0m\n\u001b[0;32m     14\u001b[0m \u001b[38;5;28;01mdef\u001b[39;00m \u001b[38;5;21mm1\u001b[39m(\u001b[38;5;28mself\u001b[39m):\n\u001b[1;32m---> 15\u001b[0m     val\u001b[38;5;241m=\u001b[39m\u001b[38;5;28;43mself\u001b[39;49m\u001b[38;5;241;43m.\u001b[39;49m\u001b[43mm1\u001b[49m\u001b[43m(\u001b[49m\u001b[43m)\u001b[49m\u001b[38;5;241m+\u001b[39m\u001b[38;5;241m20\u001b[39m\n\u001b[0;32m     16\u001b[0m     \u001b[38;5;28;01mreturn\u001b[39;00m val\n",
      "    \u001b[1;31m[... skipping similar frames: C.m1 at line 15 (2974 times)]\u001b[0m\n",
      "Cell \u001b[1;32mIn[68], line 15\u001b[0m, in \u001b[0;36mC.m1\u001b[1;34m(self)\u001b[0m\n\u001b[0;32m     14\u001b[0m \u001b[38;5;28;01mdef\u001b[39;00m \u001b[38;5;21mm1\u001b[39m(\u001b[38;5;28mself\u001b[39m):\n\u001b[1;32m---> 15\u001b[0m     val\u001b[38;5;241m=\u001b[39m\u001b[38;5;28;43mself\u001b[39;49m\u001b[38;5;241;43m.\u001b[39;49m\u001b[43mm1\u001b[49m\u001b[43m(\u001b[49m\u001b[43m)\u001b[49m\u001b[38;5;241m+\u001b[39m\u001b[38;5;241m20\u001b[39m\n\u001b[0;32m     16\u001b[0m     \u001b[38;5;28;01mreturn\u001b[39;00m val\n",
      "\u001b[1;31mRecursionError\u001b[0m: maximum recursion depth exceeded"
     ]
    }
   ],
   "source": [
    "class A:\n",
    "\n",
    "    def m1(self):\n",
    "        return 20\n",
    "\n",
    "class B(A):\n",
    "\n",
    "    def m1(self):\n",
    "        val=super().m1()+30\n",
    "        return val\n",
    "\n",
    "class C(B):\n",
    "  \n",
    "    def m1(self):\n",
    "        val=self.m1()+20   # functions calls itself again and again\n",
    "        return val\n",
    "obj=C()\n",
    "print(obj.m1())"
   ]
  },
  {
   "cell_type": "code",
   "execution_count": 69,
   "id": "9b4d7369-d26a-4a6f-9f32-8f2a3bd15bf8",
   "metadata": {},
   "outputs": [
    {
     "name": "stdout",
     "output_type": "stream",
     "text": [
      "70\n"
     ]
    }
   ],
   "source": [
    "class A:\n",
    "\n",
    "    def m1(self):\n",
    "        return 20\n",
    "\n",
    "class B(A):\n",
    "\n",
    "    def m1(self):\n",
    "        val=super().m1()+30\n",
    "        return val\n",
    "\n",
    "class C(B):\n",
    "  \n",
    "    def m1(self):\n",
    "        val=super().m1()+20   # grand father + father + son \n",
    "        return val\n",
    "obj=C()\n",
    "print(obj.m1())"
   ]
  },
  {
   "cell_type": "raw",
   "id": "2b2a6ffe-6a3f-47be-bcd5-647098fe6fd2",
   "metadata": {},
   "source": [
    "Polymorphism\n",
    "\n",
    "Method Overriding\n",
    "Method Overloading\n",
    "Operator Overloading"
   ]
  },
  {
   "cell_type": "markdown",
   "id": "3d78e981-65b3-476e-9faf-3900fd4b0d41",
   "metadata": {},
   "source": [
    "# method overriding we are performing already (using the super keyowrds )"
   ]
  },
  {
   "cell_type": "markdown",
   "id": "a94a7ba4-2bd0-44fd-a708-6cf1c5c0caaa",
   "metadata": {},
   "source": [
    "# method overloadings "
   ]
  },
  {
   "cell_type": "code",
   "execution_count": 70,
   "id": "c60cbd80-1973-4d1c-b333-f1e68dc1d988",
   "metadata": {},
   "outputs": [],
   "source": [
    "class Shape:\n",
    "\n",
    "    def area(self,l,b=0):   # with the help of the default arguments \n",
    "        if b==0:\n",
    "            return 3.14*l*l\n",
    "        else:\n",
    "            return l*b"
   ]
  },
  {
   "cell_type": "code",
   "execution_count": 71,
   "id": "67af7a58-4ec7-47de-91a9-71c907980ca6",
   "metadata": {},
   "outputs": [],
   "source": [
    "rec=Shape()\n",
    "circ=Shape()"
   ]
  },
  {
   "cell_type": "code",
   "execution_count": 72,
   "id": "6c318deb-2036-480f-9346-875fd14981a0",
   "metadata": {},
   "outputs": [
    {
     "name": "stdout",
     "output_type": "stream",
     "text": [
      "20\n",
      "28.259999999999998\n"
     ]
    }
   ],
   "source": [
    "print(rec.area(10,2))\n",
    "print(rec.area(3))"
   ]
  },
  {
   "cell_type": "markdown",
   "id": "eb0bd4df-9c9d-4089-bf09-e99bfab352c5",
   "metadata": {},
   "source": [
    "# operator overloadings"
   ]
  },
  {
   "cell_type": "code",
   "execution_count": 73,
   "id": "a481d582-5063-4e9e-a82c-cb9c557f28bb",
   "metadata": {},
   "outputs": [
    {
     "data": {
      "text/plain": [
       "'helloworld'"
      ]
     },
     "execution_count": 73,
     "metadata": {},
     "output_type": "execute_result"
    }
   ],
   "source": [
    "'hello' + 'world'  # + behave as the concatenation in the strings "
   ]
  },
  {
   "cell_type": "code",
   "execution_count": 75,
   "id": "ea6b2530-771b-4d8c-868c-658956e49bc2",
   "metadata": {},
   "outputs": [
    {
     "data": {
      "text/plain": [
       "9"
      ]
     },
     "execution_count": 75,
     "metadata": {},
     "output_type": "execute_result"
    }
   ],
   "source": [
    "4 + 5   # + operator acts the arithmetic based on the integer operators "
   ]
  },
  {
   "cell_type": "code",
   "execution_count": 76,
   "id": "762e7717-c077-48d2-8687-4939c76fb2b4",
   "metadata": {},
   "outputs": [
    {
     "data": {
      "text/plain": [
       "[1, 2, 3, 4, 5]"
      ]
     },
     "execution_count": 76,
     "metadata": {},
     "output_type": "execute_result"
    }
   ],
   "source": [
    "[1,2,3] + [4,5]  # merges"
   ]
  },
  {
   "cell_type": "code",
   "execution_count": 78,
   "id": "20f775ff-f825-4d01-b6cf-900d73c0a0a1",
   "metadata": {},
   "outputs": [
    {
     "name": "stdout",
     "output_type": "stream",
     "text": [
      "5\n",
      "12\n",
      "2\n"
     ]
    }
   ],
   "source": [
    "# another examples   # same same but different -- same function but different behaviour with respect to the input data vtypes \n",
    "print(len(\"hello\"))\n",
    "print(len([10,20,30,40,50,60,70,80,90,100,200,300]))\n",
    "print(len({'name':'saroj giri','age':30}))"
   ]
  },
  {
   "cell_type": "markdown",
   "id": "a9d06aa4-e682-44c2-946b-c7f1918b3491",
   "metadata": {},
   "source": [
    "# Abstraction"
   ]
  },
  {
   "cell_type": "code",
   "execution_count": 82,
   "id": "63653a59-6f0f-4ca5-9b1c-d8a36bb265f4",
   "metadata": {},
   "outputs": [],
   "source": [
    "from abc import ABC,abstractmethod\n",
    "class BankApp(ABC):\n",
    "\n",
    "  def database(self):\n",
    "    print('connected to database')\n",
    "\n",
    "  @abstractmethod  # this is decorators \n",
    "  def security(self):\n",
    "    pass\n",
    "\n",
    "  @abstractmethod\n",
    "  def display(self):\n",
    "    pass\n",
    "\n",
    "\n",
    "class MobileApp(BankApp):\n",
    "\n",
    "  def mobile_login(self):\n",
    "    print('login into mobile')\n",
    "\n",
    "  def security(self):\n",
    "    print('mobile security')\n",
    "\n",
    "  def display(self):\n",
    "    print('display')"
   ]
  },
  {
   "cell_type": "code",
   "execution_count": 83,
   "id": "bb55a414-8e58-44ac-bf49-32399fc1450d",
   "metadata": {},
   "outputs": [],
   "source": [
    "ms=MobileApp()"
   ]
  },
  {
   "cell_type": "code",
   "execution_count": 86,
   "id": "e6faff92-4c82-4ee2-9591-757e703093f1",
   "metadata": {},
   "outputs": [
    {
     "name": "stdout",
     "output_type": "stream",
     "text": [
      "display\n",
      "mobile security\n"
     ]
    }
   ],
   "source": [
    "ms.display()\n",
    "ms.security()"
   ]
  },
  {
   "cell_type": "code",
   "execution_count": 85,
   "id": "26c8f009-7677-4274-af04-25190a08260a",
   "metadata": {},
   "outputs": [
    {
     "ename": "TypeError",
     "evalue": "Can't instantiate abstract class BankApp without an implementation for abstract methods 'display', 'security'",
     "output_type": "error",
     "traceback": [
      "\u001b[1;31m---------------------------------------------------------------------------\u001b[0m",
      "\u001b[1;31mTypeError\u001b[0m                                 Traceback (most recent call last)",
      "Cell \u001b[1;32mIn[85], line 1\u001b[0m\n\u001b[1;32m----> 1\u001b[0m ba\u001b[38;5;241m=\u001b[39m\u001b[43mBankApp\u001b[49m\u001b[43m(\u001b[49m\u001b[43m)\u001b[49m\n",
      "\u001b[1;31mTypeError\u001b[0m: Can't instantiate abstract class BankApp without an implementation for abstract methods 'display', 'security'"
     ]
    }
   ],
   "source": [
    "ba=BankApp() # we cannot make the objects of the Bank app "
   ]
  },
  {
   "cell_type": "code",
   "execution_count": null,
   "id": "ceab0ff3-cfcd-4ce3-af68-df2242cf47bd",
   "metadata": {},
   "outputs": [],
   "source": []
  }
 ],
 "metadata": {
  "kernelspec": {
   "display_name": "Python 3 (ipykernel)",
   "language": "python",
   "name": "python3"
  },
  "language_info": {
   "codemirror_mode": {
    "name": "ipython",
    "version": 3
   },
   "file_extension": ".py",
   "mimetype": "text/x-python",
   "name": "python",
   "nbconvert_exporter": "python",
   "pygments_lexer": "ipython3",
   "version": "3.12.6"
  }
 },
 "nbformat": 4,
 "nbformat_minor": 5
}
