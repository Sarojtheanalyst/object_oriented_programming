{
 "cells": [
  {
   "cell_type": "code",
   "execution_count": 36,
   "id": "fa5304d1-d885-4876-890f-cfa411dd27fe",
   "metadata": {},
   "outputs": [],
   "source": [
    "class Demo:\n",
    "\n",
    "    def __init__(self):\n",
    "        self.name='saroj'\n",
    "        self.age=20\n",
    "        self.__address='kusma parbat'\n",
    "\n",
    "    def display_vars(self):\n",
    "        print(vars(self))   # this will display all the attributes name from the objects \n",
    "\n",
    "    def prints(self):\n",
    "        print(\"hellow world\")\n",
    "\n",
    "    def __private_methods(self):\n",
    "        print(\" this is private methods \")\n",
    "\n",
    "    \n",
    "    @staticmethod\n",
    "    def static_method():\n",
    "        print(\"This is a static method\")  # Static method\n",
    "\n",
    "    @classmethod\n",
    "    def class_method(cls):\n",
    "        print(\"This is a class method\")  # Class method\n",
    "\n",
    "    \n",
    "    @staticmethod\n",
    "    def method_static():\n",
    "        print(\"This is a static method\")  # Static method\n",
    "\n",
    "    @classmethod\n",
    "    def method_class(cls):\n",
    "        print(\"This is a class method\")  # Class method"
   ]
  },
  {
   "cell_type": "code",
   "execution_count": 37,
   "id": "84917d4e-7080-4a21-8ff8-915231689ad2",
   "metadata": {},
   "outputs": [],
   "source": [
    "obj1=Demo()\n",
    "obj2=Demo()"
   ]
  },
  {
   "cell_type": "code",
   "execution_count": 41,
   "id": "dfe3b993-da9d-4006-a99a-952091de6836",
   "metadata": {},
   "outputs": [
    {
     "name": "stdout",
     "output_type": "stream",
     "text": [
      "{'name': 'saroj', 'age': 20, '_Demo__address': 'kusma parbat', 'college': 'ambition college'}\n"
     ]
    }
   ],
   "source": [
    "obj1.display_vars() # we can access the private variables also "
   ]
  },
  {
   "cell_type": "code",
   "execution_count": 40,
   "id": "5df496ea-5bee-4a66-86a8-534e9bef9186",
   "metadata": {},
   "outputs": [],
   "source": [
    "obj1.college='ambition college'"
   ]
  },
  {
   "cell_type": "code",
   "execution_count": 27,
   "id": "c79aba0c-f24a-4b06-b049-dc30009191fc",
   "metadata": {},
   "outputs": [
    {
     "name": "stdout",
     "output_type": "stream",
     "text": [
      "['_Demo__address', '_Demo__private_methods', 'age', 'college', 'display_vars', 'name', 'prints']\n"
     ]
    }
   ],
   "source": [
    "# this will display all the attributes names and the methods (private or public)\n",
    "user_methods = [method for method in dir(obj1) if not method.startswith('__')]\n",
    "print(user_methods)"
   ]
  },
  {
   "cell_type": "code",
   "execution_count": 32,
   "id": "debe8834-c753-4ec9-b4b9-3ac19e5f1827",
   "metadata": {},
   "outputs": [
    {
     "data": {
      "text/plain": [
       "['_Demo__private_methods', 'display_vars', 'prints']"
      ]
     },
     "execution_count": 32,
     "metadata": {},
     "output_type": "execute_result"
    }
   ],
   "source": [
    "# Get all methods (callable attributes) of the object (privates or public)\n",
    "methods = [method for method in dir(obj1) if callable(getattr(obj1, method)) and not method.startswith('__')]\n",
    "methods"
   ]
  },
  {
   "cell_type": "code",
   "execution_count": 45,
   "id": "da6b1caf-5245-4fd9-b227-4290aeec603b",
   "metadata": {},
   "outputs": [
    {
     "data": {
      "text/plain": [
       "['_Demo__private_methods',\n",
       " '__init__',\n",
       " 'class_method',\n",
       " 'display_vars',\n",
       " 'method_class',\n",
       " 'prints']"
      ]
     },
     "execution_count": 45,
     "metadata": {},
     "output_type": "execute_result"
    }
   ],
   "source": [
    "# derive all the methodsss include constructor also\n",
    "import inspect   # does not provide the static methods \n",
    "methods = [method[0] for method in inspect.getmembers(obj1, predicate=inspect.ismethod)]\n",
    "methods"
   ]
  },
  {
   "cell_type": "code",
   "execution_count": 46,
   "id": "3df002ad-6c94-4287-a83f-a20a9c18b5be",
   "metadata": {},
   "outputs": [
    {
     "name": "stdout",
     "output_type": "stream",
     "text": [
      "Attributes: ['_Demo__address', 'age', 'college', 'name']\n",
      "Attribute Values: {'_Demo__address': 'kusma parbat', 'age': 20, 'college': 'ambition college', 'name': 'saroj'}\n"
     ]
    }
   ],
   "source": [
    "# we can accesss all the values from the different corresponding with their values \n",
    "attributes = [attr for attr in dir(obj1) if not callable(getattr(obj1, attr)) and not attr.startswith('__')]\n",
    "print(\"Attributes:\", attributes)\n",
    "# To get the actual values of the attributes\n",
    "attribute_values = {attr: getattr(obj1, attr) for attr in attributes}\n",
    "print(\"Attribute Values:\", attribute_values)"
   ]
  },
  {
   "cell_type": "code",
   "execution_count": 31,
   "id": "9c0bba8b-0ab2-41d6-baa4-ed38febad652",
   "metadata": {},
   "outputs": [],
   "source": [
    "# dir(obj1)  -- all the attributes and the methods"
   ]
  },
  {
   "cell_type": "code",
   "execution_count": 48,
   "id": "1f61f35a-880a-4815-99c9-e405e9da058c",
   "metadata": {},
   "outputs": [
    {
     "name": "stdout",
     "output_type": "stream",
     "text": [
      "['Demo', 'In', 'Out', '_', '_10', '_16', '_28', '_29', '_30', '_32', '_35', '_45', '__', '___', '__builtin__', '__builtins__', '__doc__', '__loader__', '__name__', '__package__', '__session__', '__spec__', '_dh', '_i', '_i1', '_i10', '_i11', '_i12', '_i13', '_i14', '_i15', '_i16', '_i17', '_i18', '_i19', '_i2', '_i20', '_i21', '_i22', '_i23', '_i24', '_i25', '_i26', '_i27', '_i28', '_i29', '_i3', '_i30', '_i31', '_i32', '_i33', '_i34', '_i35', '_i36', '_i37', '_i38', '_i39', '_i4', '_i40', '_i41', '_i42', '_i43', '_i44', '_i45', '_i46', '_i47', '_i48', '_i5', '_i6', '_i7', '_i8', '_i9', '_ih', '_ii', '_iii', '_oh', 'attribute_values', 'attributes', 'b', 'c', 'exit', 'get_ipython', 'inspect', 'methods', 'obj1', 'obj2', 'open', 'quit', 'user_methods']\n"
     ]
    }
   ],
   "source": [
    "print(dir())"
   ]
  },
  {
   "cell_type": "code",
   "execution_count": 52,
   "id": "18309088-7125-4346-8ee4-b125c804affb",
   "metadata": {},
   "outputs": [
    {
     "name": "stdout",
     "output_type": "stream",
     "text": [
      "['_Demo__private_methods', '__init__', 'class_method', 'display_vars', 'method_class', 'prints']\n"
     ]
    }
   ],
   "source": [
    "print(_)  # all the methods names of the class "
   ]
  },
  {
   "cell_type": "code",
   "execution_count": 53,
   "id": "1ec0b252-24ed-4ce6-971f-f81a3cee7f84",
   "metadata": {},
   "outputs": [
    {
     "name": "stdout",
     "output_type": "stream",
     "text": [
      "['_Demo__private_methods', '__init__', 'display_vars', 'prints']\n"
     ]
    }
   ],
   "source": [
    "print(__)  # without the static methods "
   ]
  },
  {
   "cell_type": "code",
   "execution_count": 60,
   "id": "4153db34-740c-4bfb-948e-a30994e855db",
   "metadata": {},
   "outputs": [
    {
     "data": {
      "text/plain": [
       "'a=10 b=20 c=30 print(dir())  del a print(dir())'"
      ]
     },
     "execution_count": 60,
     "metadata": {},
     "output_type": "execute_result"
    }
   ],
   "source": [
    "_ih[3].replace(\"\\n\",\" \")"
   ]
  },
  {
   "cell_type": "code",
   "execution_count": 61,
   "id": "8aab7b62-1182-4d76-a730-67914d5c96c3",
   "metadata": {},
   "outputs": [
    {
     "data": {
      "text/plain": [
       "['_Demo__address', 'age', 'college', 'name']"
      ]
     },
     "execution_count": 61,
     "metadata": {},
     "output_type": "execute_result"
    }
   ],
   "source": [
    "attributes # gives all attributes "
   ]
  },
  {
   "cell_type": "code",
   "execution_count": 63,
   "id": "860f9029-c098-439f-b9fd-65f25c7615af",
   "metadata": {},
   "outputs": [
    {
     "data": {
      "text/plain": [
       "{'_Demo__address': 'kusma parbat',\n",
       " 'age': 20,\n",
       " 'college': 'ambition college',\n",
       " 'name': 'saroj'}"
      ]
     },
     "execution_count": 63,
     "metadata": {},
     "output_type": "execute_result"
    }
   ],
   "source": [
    "attribute_values  # get all the attributes values in the listsv"
   ]
  },
  {
   "cell_type": "code",
   "execution_count": 66,
   "id": "9bb20c86-fd45-48c4-932f-d43c689c9547",
   "metadata": {},
   "outputs": [
    {
     "name": "stdout",
     "output_type": "stream",
     "text": [
      "2437906720976\n"
     ]
    }
   ],
   "source": [
    "print(id(obj1))"
   ]
  },
  {
   "cell_type": "code",
   "execution_count": 67,
   "id": "f1eb3cfe-d204-4c23-821b-0bbd7ebce07e",
   "metadata": {},
   "outputs": [
    {
     "data": {
      "text/plain": [
       "['_Demo__private_methods',\n",
       " '__init__',\n",
       " 'class_method',\n",
       " 'display_vars',\n",
       " 'method_class',\n",
       " 'prints']"
      ]
     },
     "execution_count": 67,
     "metadata": {},
     "output_type": "execute_result"
    }
   ],
   "source": [
    "methods"
   ]
  },
  {
   "cell_type": "code",
   "execution_count": 49,
   "id": "75416625-8da3-49f9-a766-f3edaae1c184",
   "metadata": {},
   "outputs": [
    {
     "name": "stdout",
     "output_type": "stream",
     "text": [
      "a=10\n",
      "b=20\n",
      "c=30\n",
      "print(dir()) \n"
     ]
    }
   ],
   "source": [
    "print(_i2)"
   ]
  },
  {
   "cell_type": "code",
   "execution_count": 50,
   "id": "d3740c8e-9622-4ab1-a6ab-22ff653414d0",
   "metadata": {},
   "outputs": [
    {
     "name": "stdout",
     "output_type": "stream",
     "text": [
      "obj1.display_vars() # we can access the private variables also \n"
     ]
    }
   ],
   "source": [
    "print(_i25)"
   ]
  },
  {
   "cell_type": "code",
   "execution_count": 51,
   "id": "f77a2ed2-ee17-4aaa-bd82-cca8fc962ec3",
   "metadata": {},
   "outputs": [
    {
     "name": "stdout",
     "output_type": "stream",
     "text": [
      "print(Out)\n"
     ]
    }
   ],
   "source": [
    "print(_i5)"
   ]
  },
  {
   "cell_type": "code",
   "execution_count": 4,
   "id": "1bb6230c-7b28-41c9-a368-1bcc9f002561",
   "metadata": {},
   "outputs": [
    {
     "name": "stdout",
     "output_type": "stream",
     "text": [
      "['', 'a=10\\nb=20\\nprint(dir()) ', 'a=10\\nb=20\\nc=30\\nprint(dir()) ', 'a=10\\nb=20\\nc=30\\nprint(dir()) \\ndel a\\nprint(dir())', 'print(In)']\n"
     ]
    }
   ],
   "source": [
    "print(In)"
   ]
  },
  {
   "cell_type": "markdown",
   "id": "a19422a2-868c-4c15-aeeb-f37cc92e5e94",
   "metadata": {},
   "source": [
    "# see all the lists methods "
   ]
  },
  {
   "cell_type": "code",
   "execution_count": 68,
   "id": "9767d2b7-cf33-412c-bbe6-808ea8a6fb0f",
   "metadata": {},
   "outputs": [
    {
     "name": "stdout",
     "output_type": "stream",
     "text": [
      "['__add__', '__class__', '__class_getitem__', '__contains__', '__delattr__', '__delitem__', '__dir__', '__doc__', '__eq__', '__format__', '__ge__', '__getattribute__', '__getitem__', '__getstate__', '__gt__', '__hash__', '__iadd__', '__imul__', '__init__', '__init_subclass__', '__iter__', '__le__', '__len__', '__lt__', '__mul__', '__ne__', '__new__', '__reduce__', '__reduce_ex__', '__repr__', '__reversed__', '__rmul__', '__setattr__', '__setitem__', '__sizeof__', '__str__', '__subclasshook__', 'append', 'clear', 'copy', 'count', 'extend', 'index', 'insert', 'pop', 'remove', 'reverse', 'sort']\n"
     ]
    }
   ],
   "source": [
    "# Create a sample list\n",
    "my_list = [1, 2, 3, 4, 5]\n",
    "\n",
    "list_methods_and_attributes = dir(my_list)\n",
    "\n",
    "print(list_methods_and_attributes)"
   ]
  },
  {
   "cell_type": "code",
   "execution_count": 69,
   "id": "3a808661-c755-4bbe-a121-d753e7c5c7e5",
   "metadata": {},
   "outputs": [
    {
     "data": {
      "text/plain": [
       "1"
      ]
     },
     "execution_count": 69,
     "metadata": {},
     "output_type": "execute_result"
    }
   ],
   "source": [
    "my_list.count(4)"
   ]
  },
  {
   "cell_type": "code",
   "execution_count": 70,
   "id": "45d34f73-21d4-4604-9b9e-f68ec6f57372",
   "metadata": {},
   "outputs": [
    {
     "data": {
      "text/plain": [
       "<method-wrapper '__add__' of list object at 0x000002379EDCA3C0>"
      ]
     },
     "execution_count": 70,
     "metadata": {},
     "output_type": "execute_result"
    }
   ],
   "source": []
  },
  {
   "cell_type": "code",
   "execution_count": null,
   "id": "84a585dc-4426-4238-8bc1-01d37d54c685",
   "metadata": {},
   "outputs": [],
   "source": []
  },
  {
   "cell_type": "code",
   "execution_count": null,
   "id": "cfb51a4a-1c8a-4664-90df-57aa4be69de2",
   "metadata": {},
   "outputs": [],
   "source": []
  },
  {
   "cell_type": "code",
   "execution_count": null,
   "id": "6d8dcc1d-4fcf-45db-a0b0-c3e155f8b300",
   "metadata": {},
   "outputs": [],
   "source": []
  },
  {
   "cell_type": "code",
   "execution_count": null,
   "id": "5796e21d-636c-445f-864b-ab3cf03138c1",
   "metadata": {},
   "outputs": [],
   "source": []
  },
  {
   "cell_type": "code",
   "execution_count": null,
   "id": "3479a644-1774-45a6-9ac2-f73d6c84bfe1",
   "metadata": {},
   "outputs": [],
   "source": []
  }
 ],
 "metadata": {
  "kernelspec": {
   "display_name": "Python 3 (ipykernel)",
   "language": "python",
   "name": "python3"
  },
  "language_info": {
   "codemirror_mode": {
    "name": "ipython",
    "version": 3
   },
   "file_extension": ".py",
   "mimetype": "text/x-python",
   "name": "python",
   "nbconvert_exporter": "python",
   "pygments_lexer": "ipython3",
   "version": "3.12.6"
  }
 },
 "nbformat": 4,
 "nbformat_minor": 5
}
