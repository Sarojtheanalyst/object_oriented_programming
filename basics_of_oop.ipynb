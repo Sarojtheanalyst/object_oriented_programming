{
 "cells": [
  {
   "cell_type": "markdown",
   "id": "033a5de6-4d50-4955-bcdb-630e5a350083",
   "metadata": {},
   "source": [
    "# class and objects "
   ]
  },
  {
   "cell_type": "code",
   "execution_count": 1,
   "id": "5496d09c-bb53-4b9d-a86b-bd469e7de65d",
   "metadata": {},
   "outputs": [
    {
     "ename": "AttributeError",
     "evalue": "'list' object has no attribute 'upper'",
     "output_type": "error",
     "traceback": [
      "\u001b[1;31m---------------------------------------------------------------------------\u001b[0m",
      "\u001b[1;31mAttributeError\u001b[0m                            Traceback (most recent call last)",
      "Cell \u001b[1;32mIn[1], line 3\u001b[0m\n\u001b[0;32m      1\u001b[0m L \u001b[38;5;241m=\u001b[39m [\u001b[38;5;241m1\u001b[39m,\u001b[38;5;241m2\u001b[39m,\u001b[38;5;241m3\u001b[39m]\n\u001b[1;32m----> 3\u001b[0m \u001b[43mL\u001b[49m\u001b[38;5;241;43m.\u001b[39;49m\u001b[43mupper\u001b[49m()\n",
      "\u001b[1;31mAttributeError\u001b[0m: 'list' object has no attribute 'upper'"
     ]
    }
   ],
   "source": [
    "L = [1,2,3]\n",
    "\n",
    "L.upper()"
   ]
  },
  {
   "cell_type": "code",
   "execution_count": 2,
   "id": "b0564263-0eef-430b-99ca-adaad612b84d",
   "metadata": {},
   "outputs": [
    {
     "ename": "AttributeError",
     "evalue": "'str' object has no attribute 'append'",
     "output_type": "error",
     "traceback": [
      "\u001b[1;31m---------------------------------------------------------------------------\u001b[0m",
      "\u001b[1;31mAttributeError\u001b[0m                            Traceback (most recent call last)",
      "Cell \u001b[1;32mIn[2], line 2\u001b[0m\n\u001b[0;32m      1\u001b[0m s \u001b[38;5;241m=\u001b[39m \u001b[38;5;124m'\u001b[39m\u001b[38;5;124mhello\u001b[39m\u001b[38;5;124m'\u001b[39m\n\u001b[1;32m----> 2\u001b[0m \u001b[43ms\u001b[49m\u001b[38;5;241;43m.\u001b[39;49m\u001b[43mappend\u001b[49m(\u001b[38;5;124m'\u001b[39m\u001b[38;5;124mx\u001b[39m\u001b[38;5;124m'\u001b[39m)\n",
      "\u001b[1;31mAttributeError\u001b[0m: 'str' object has no attribute 'append'"
     ]
    }
   ],
   "source": [
    "s = 'hello'\n",
    "s.append('x')"
   ]
  },
  {
   "cell_type": "code",
   "execution_count": 3,
   "id": "51c53389-e581-4a85-8fd3-ba6ffef21428",
   "metadata": {},
   "outputs": [
    {
     "name": "stdout",
     "output_type": "stream",
     "text": [
      "<class 'list'>\n"
     ]
    }
   ],
   "source": [
    "L = [1,2,3]\n",
    "print(type(L))"
   ]
  },
  {
   "cell_type": "code",
   "execution_count": 4,
   "id": "d8926d6d-d174-421c-9cad-da71bddee1e3",
   "metadata": {},
   "outputs": [],
   "source": [
    "s = [1,2,3]"
   ]
  },
  {
   "cell_type": "code",
   "execution_count": 5,
   "id": "1b53bc36-092a-4792-b4b4-65fd2d2727b1",
   "metadata": {},
   "outputs": [],
   "source": [
    "# syntax to create an object\n",
    "\n",
    "#objectname = classname()"
   ]
  },
  {
   "cell_type": "code",
   "execution_count": 6,
   "id": "07940673-69d0-460f-b0e7-bebbb57b06f2",
   "metadata": {},
   "outputs": [],
   "source": [
    "# object literal\n",
    "L = [1,2,3]"
   ]
  },
  {
   "cell_type": "code",
   "execution_count": 7,
   "id": "2bfd67cb-2a98-4a74-a5bf-87c5146e2349",
   "metadata": {},
   "outputs": [
    {
     "data": {
      "text/plain": [
       "[]"
      ]
     },
     "execution_count": 7,
     "metadata": {},
     "output_type": "execute_result"
    }
   ],
   "source": [
    "L = list()\n",
    "L"
   ]
  },
  {
   "cell_type": "code",
   "execution_count": 8,
   "id": "795cae9a-19e1-4465-97e3-e4cde153ae2b",
   "metadata": {},
   "outputs": [
    {
     "data": {
      "text/plain": [
       "''"
      ]
     },
     "execution_count": 8,
     "metadata": {},
     "output_type": "execute_result"
    }
   ],
   "source": [
    "s = str()\n",
    "s"
   ]
  },
  {
   "cell_type": "code",
   "execution_count": 10,
   "id": "3a175c9a-214c-4c5f-a28d-618d25bb8c66",
   "metadata": {},
   "outputs": [],
   "source": [
    "# Pascal Case\n",
    "#  HelloWorld"
   ]
  },
  {
   "cell_type": "code",
   "execution_count": 11,
   "id": "4ebb0f60-38e7-4343-8f11-d24a06747a41",
   "metadata": {},
   "outputs": [],
   "source": [
    "class Atm:\n",
    "    def __init__(self):\n",
    "        print(id(self))\n",
    "        self.balance=100\n",
    "\n",
    "    def balance(self):\n",
    "        print(self.balance)\n"
   ]
  },
  {
   "cell_type": "code",
   "execution_count": 12,
   "id": "817f2695-933b-4e95-b275-a5841de5d0f7",
   "metadata": {},
   "outputs": [
    {
     "name": "stdout",
     "output_type": "stream",
     "text": [
      "2285742842624\n"
     ]
    }
   ],
   "source": [
    "ob1=Atm()  # the self is nothing but the object we created "
   ]
  },
  {
   "cell_type": "code",
   "execution_count": 13,
   "id": "c345d9a1-f439-4ceb-b149-1e0f4b51a9a6",
   "metadata": {},
   "outputs": [
    {
     "name": "stdout",
     "output_type": "stream",
     "text": [
      "2285742842624\n"
     ]
    }
   ],
   "source": [
    "print(id(ob1))"
   ]
  },
  {
   "cell_type": "code",
   "execution_count": 14,
   "id": "19bbd82f-b6ed-4517-b6a8-1700e9243b40",
   "metadata": {},
   "outputs": [
    {
     "name": "stdout",
     "output_type": "stream",
     "text": [
      "2285744484000\n"
     ]
    }
   ],
   "source": [
    "ob2=Atm()"
   ]
  },
  {
   "cell_type": "code",
   "execution_count": 15,
   "id": "d15e37b1-1bd1-4f99-9d38-7c1085af5e7e",
   "metadata": {},
   "outputs": [
    {
     "name": "stdout",
     "output_type": "stream",
     "text": [
      "2285744484000\n"
     ]
    }
   ],
   "source": [
    "print(id(ob2))  # memory location for the object 2 "
   ]
  },
  {
   "cell_type": "markdown",
   "id": "af827d66-0745-4870-ac82-965022d298bc",
   "metadata": {},
   "source": [
    "# parameterized Constructors"
   ]
  },
  {
   "cell_type": "code",
   "execution_count": 19,
   "id": "e10cd2ac-479f-40dc-b8bd-0a902c5dc1d7",
   "metadata": {},
   "outputs": [],
   "source": [
    "class Fraction:\n",
    "\n",
    "  # parameterized constructor\n",
    "  def __init__(self,x,y):\n",
    "    self.num = x\n",
    "    self.den = y\n",
    "\n",
    "  def __str__(self):\n",
    "    return '{}/{}'.format(self.num,self.den)\n",
    "\n",
    "  def __add__(self,other):\n",
    "    new_num = self.num*other.den + other.num*self.den\n",
    "    new_den = self.den*other.den\n",
    "\n",
    "    return '{}/{}'.format(new_num,new_den)\n",
    "\n",
    "  def __sub__(self,other):\n",
    "    new_num = self.num*other.den - other.num*self.den\n",
    "    new_den = self.den*other.den\n",
    "\n",
    "    return '{}/{}'.format(new_num,new_den)\n",
    "\n",
    "  def __mul__(self,other):\n",
    "    new_num = self.num*other.num\n",
    "    new_den = self.den*other.den\n",
    "\n",
    "    return '{}/{}'.format(new_num,new_den)\n",
    "\n",
    "  def __truediv__(self,other):\n",
    "    new_num = self.num*other.den\n",
    "    new_den = self.den*other.num\n",
    "\n",
    "    return '{}/{}'.format(new_num,new_den)\n",
    "\n",
    "  def convert_to_decimal(self):\n",
    "    return self.num/self.den\n",
    "\n",
    "  def memory_loc(self,other):\n",
    "      print(\"Mmeory location of self \",id(self))\n",
    "      print(\"Mmeory location of self \",id(other))\n"
   ]
  },
  {
   "cell_type": "code",
   "execution_count": 20,
   "id": "8b2be7c8-3adc-4faa-9668-2407ee2d9beb",
   "metadata": {},
   "outputs": [],
   "source": [
    "f1=Fraction(2,3)\n",
    "f2=Fraction(3,4)"
   ]
  },
  {
   "cell_type": "code",
   "execution_count": 21,
   "id": "341d005e-a75f-49df-b9a1-314999f34f0b",
   "metadata": {},
   "outputs": [
    {
     "name": "stdout",
     "output_type": "stream",
     "text": [
      "2285744483232\n",
      "2285744479920\n"
     ]
    }
   ],
   "source": [
    "print(id(f1))\n",
    "print(id(f2))"
   ]
  },
  {
   "cell_type": "code",
   "execution_count": 22,
   "id": "a36e7e37-66ff-4ccd-859b-cb649127773d",
   "metadata": {},
   "outputs": [
    {
     "name": "stdout",
     "output_type": "stream",
     "text": [
      "Mmeory location of self  2285744483232\n",
      "Mmeory location of self  2285744479920\n"
     ]
    }
   ],
   "source": [
    "f1.memory_loc(f2) # we are passing the f1 from the f1.memory_loc()  and 2nd object is other "
   ]
  },
  {
   "cell_type": "code",
   "execution_count": 24,
   "id": "9c989fff-a928-4b82-b532-2c2cb3937b18",
   "metadata": {},
   "outputs": [
    {
     "name": "stdout",
     "output_type": "stream",
     "text": [
      "Mmeory location of self  2285744479920\n",
      "Mmeory location of self  2285744483232\n"
     ]
    }
   ],
   "source": [
    "f2.memory_loc(f1)"
   ]
  },
  {
   "cell_type": "code",
   "execution_count": 18,
   "id": "89e0a86c-3b61-4c85-b10c-57c5b17ecf80",
   "metadata": {},
   "outputs": [
    {
     "name": "stdout",
     "output_type": "stream",
     "text": [
      "2/3\n",
      "3/4\n"
     ]
    }
   ],
   "source": [
    "print(f1)\n",
    "print(f2)"
   ]
  },
  {
   "cell_type": "code",
   "execution_count": 26,
   "id": "4efb7fab-a355-4d9d-bea5-16e82a87b508",
   "metadata": {},
   "outputs": [
    {
     "name": "stdout",
     "output_type": "stream",
     "text": [
      "17/12\n",
      "-1/12\n",
      "6/12\n",
      "8/9\n"
     ]
    }
   ],
   "source": [
    "print(f1+f2)\n",
    "print(f1-f2)\n",
    "print(f1*f2)\n",
    "print(f1/f2)"
   ]
  },
  {
   "cell_type": "code",
   "execution_count": 27,
   "id": "9d1fe47a-a70d-4e46-bc95-b99e1e87df52",
   "metadata": {},
   "outputs": [],
   "source": [
    "# calling the methods \n",
    "\n",
    "class Demo:\n",
    "\n",
    "    def __init__(self):\n",
    "        print(\"object is created \")\n",
    "        self.display()\n",
    "\n",
    "    def display(self):\n",
    "        print(\" display function is called \")\n",
    "        self.change_pin()\n",
    "\n",
    "    def change_pin(self):\n",
    "        print(\" change pin methods is called \")"
   ]
  },
  {
   "cell_type": "code",
   "execution_count": 28,
   "id": "74e5d8ec-1579-4d75-b600-b227ad83f13a",
   "metadata": {},
   "outputs": [
    {
     "name": "stdout",
     "output_type": "stream",
     "text": [
      "object is created \n",
      " display function is called \n",
      " change pin methods is called \n"
     ]
    }
   ],
   "source": [
    "d1=Demo()  # calling the methods inside of the methods "
   ]
  },
  {
   "cell_type": "raw",
   "id": "6117f82c-fab9-4c93-928d-6c2dd13b6fc4",
   "metadata": {},
   "source": [
    "Write OOP classes to handle the following scenarios:\n",
    "\n",
    "A user can create and view 2D coordinates\n",
    "A user can find out the distance between 2 coordinates\n",
    "A user can find find the distance of a coordinate from origin\n",
    "A user can check if a point lies on a given line\n",
    "A user can find the distance between a given 2D point and a given line"
   ]
  },
  {
   "cell_type": "code",
   "execution_count": 29,
   "id": "2028b2ef-ee9c-4359-ae48-51c565d14122",
   "metadata": {},
   "outputs": [],
   "source": [
    "# example demonstrations \n",
    "\n",
    "class Demos:\n",
    "\n",
    "    def __init__(salman):  # for the simplification we can use the self \n",
    "        salman.name='saroj'\n",
    "        salman.age=20\n",
    "\n",
    "    def display(salman):\n",
    "        print(f\"Name : {salman.name}\")\n",
    "        print(f\"Age : {salman.age}\")\n",
    "        "
   ]
  },
  {
   "cell_type": "code",
   "execution_count": 31,
   "id": "64c569c7-fefb-40e0-a903-11969429d175",
   "metadata": {},
   "outputs": [
    {
     "name": "stdout",
     "output_type": "stream",
     "text": [
      "Name : saroj\n",
      "Age : 20\n"
     ]
    }
   ],
   "source": [
    "d1=Demos()\n",
    "d1.display()"
   ]
  },
  {
   "cell_type": "code",
   "execution_count": 52,
   "id": "64d70240-d8e3-4d4c-8191-06cceed10398",
   "metadata": {},
   "outputs": [],
   "source": [
    "# example of the points \n",
    "\n",
    "class Point:\n",
    "\n",
    "    def __init__(self,x,y):\n",
    "        self.x_cord=x\n",
    "        self.y_cord=y\n",
    "\n",
    "    def __str__(self):\n",
    "        return f'<{self.x_cord} , {self.y_cord} >'\n",
    "\n",
    "    def euclidean_distance(self,other):\n",
    "        return ((self.x_cord - other.x_cord)**2 + (self.y_cord - other.y_cord)**2)**0.5\n",
    "\n",
    "    def distance_from_origin(self):\n",
    "        return (self.x_cord**2 + self.y_cord**2)**0.5\n",
    "    # return self.euclidean_distance(Point(0,0))\n",
    "\n",
    "class Line:\n",
    "\n",
    "  def __init__(self,A,B,C):\n",
    "    self.A = A\n",
    "    self.B = B\n",
    "    self.C = C\n",
    "\n",
    "  def __str__(self):\n",
    "    return '{}x + {}y + {} = 0'.format(self.A,self.B,self.C)\n",
    "\n",
    "  def point_on_line(line,point):\n",
    "    if line.A*point.x_cord + line.B*point.y_cord + line.C == 0:\n",
    "      return \"lies on the line\"\n",
    "    else:\n",
    "      return \"does not lie on the line\"\n",
    "\n",
    "  def shortest_distance(line,point):\n",
    "    return abs(line.A*point.x_cord + line.B*point.y_cord + line.C)/(line.A**2 + line.B**2)**0.5\n"
   ]
  },
  {
   "cell_type": "code",
   "execution_count": 53,
   "id": "1ec4aa22-e3e6-4b13-a5f4-1eed153e6dcc",
   "metadata": {},
   "outputs": [],
   "source": [
    "# OBJECT CREATIONS \n",
    "p1=Point(10,20)\n",
    "p2=Point(12,10)"
   ]
  },
  {
   "cell_type": "code",
   "execution_count": 54,
   "id": "a8b75dc6-ba9e-47dd-b2bf-3e2dbf70441b",
   "metadata": {},
   "outputs": [
    {
     "name": "stdout",
     "output_type": "stream",
     "text": [
      "<10 , 20 >\n",
      "<12 , 10 >\n"
     ]
    }
   ],
   "source": [
    "print(p1)\n",
    "print(p2)"
   ]
  },
  {
   "cell_type": "code",
   "execution_count": 55,
   "id": "3c7496ae-6600-4423-b13c-4635da6d1b41",
   "metadata": {},
   "outputs": [
    {
     "name": "stdout",
     "output_type": "stream",
     "text": [
      "10x + 20y + 30 = 0\n"
     ]
    }
   ],
   "source": [
    "# creating the line objects\n",
    "\n",
    "l1=Line(10,20,30)\n",
    "print(l1)"
   ]
  },
  {
   "cell_type": "code",
   "execution_count": 56,
   "id": "fcd9dbbe-eef8-4ca1-bfb6-fe9a90539249",
   "metadata": {},
   "outputs": [
    {
     "data": {
      "text/plain": [
       "'does not lie on the line'"
      ]
     },
     "execution_count": 56,
     "metadata": {},
     "output_type": "execute_result"
    }
   ],
   "source": [
    "l1.point_on_line(p1)"
   ]
  },
  {
   "cell_type": "code",
   "execution_count": 57,
   "id": "2aab2b07-15b2-4618-a7f5-9a8722b14531",
   "metadata": {},
   "outputs": [
    {
     "data": {
      "text/plain": [
       "'does not lie on the line'"
      ]
     },
     "execution_count": 57,
     "metadata": {},
     "output_type": "execute_result"
    }
   ],
   "source": [
    "l1.point_on_line(p2)"
   ]
  },
  {
   "cell_type": "code",
   "execution_count": 58,
   "id": "b0357e4c-c276-464b-9050-93ca446f895d",
   "metadata": {},
   "outputs": [
    {
     "data": {
      "text/plain": [
       "23.70232056149777"
      ]
     },
     "execution_count": 58,
     "metadata": {},
     "output_type": "execute_result"
    }
   ],
   "source": [
    "l1.shortest_distance(p1)"
   ]
  },
  {
   "cell_type": "code",
   "execution_count": 59,
   "id": "600c3d10-f3e8-4748-bf7b-8462dfb9095d",
   "metadata": {},
   "outputs": [
    {
     "data": {
      "text/plain": [
       "15.652475842498527"
      ]
     },
     "execution_count": 59,
     "metadata": {},
     "output_type": "execute_result"
    }
   ],
   "source": [
    "l1.shortest_distance(p2)"
   ]
  },
  {
   "cell_type": "code",
   "execution_count": 44,
   "id": "72793a43-5fad-448e-867f-40ca74341d13",
   "metadata": {},
   "outputs": [
    {
     "data": {
      "text/plain": [
       "10.198039027185569"
      ]
     },
     "execution_count": 44,
     "metadata": {},
     "output_type": "execute_result"
    }
   ],
   "source": [
    "p1.euclidean_distance(p2)"
   ]
  },
  {
   "cell_type": "code",
   "execution_count": 45,
   "id": "488f13c3-809a-4055-ae09-929e65c33e01",
   "metadata": {},
   "outputs": [
    {
     "data": {
      "text/plain": [
       "10.198039027185569"
      ]
     },
     "execution_count": 45,
     "metadata": {},
     "output_type": "execute_result"
    }
   ],
   "source": [
    "p2.euclidean_distance(p1)"
   ]
  },
  {
   "cell_type": "code",
   "execution_count": 46,
   "id": "76bab087-a0b5-4c38-ba68-798236b74128",
   "metadata": {},
   "outputs": [
    {
     "data": {
      "text/plain": [
       "22.360679774997898"
      ]
     },
     "execution_count": 46,
     "metadata": {},
     "output_type": "execute_result"
    }
   ],
   "source": [
    "p1.distance_from_origin()"
   ]
  },
  {
   "cell_type": "code",
   "execution_count": 47,
   "id": "66fe774a-4fbd-433b-a1c3-d86dd07cc3b4",
   "metadata": {},
   "outputs": [
    {
     "data": {
      "text/plain": [
       "15.620499351813308"
      ]
     },
     "execution_count": 47,
     "metadata": {},
     "output_type": "execute_result"
    }
   ],
   "source": [
    "p2.distance_from_origin()"
   ]
  },
  {
   "cell_type": "markdown",
   "id": "59f00082-354f-40ac-a653-60066c23f64c",
   "metadata": {},
   "source": [
    "# How objects access attributes"
   ]
  },
  {
   "cell_type": "code",
   "execution_count": 60,
   "id": "70eb3cfb-5a61-441a-9621-b8e8eb10e252",
   "metadata": {},
   "outputs": [],
   "source": [
    "class Person:\n",
    "\n",
    "  def __init__(self,name_input,country_input):\n",
    "    self.name = name_input\n",
    "    self.country = country_input\n",
    "\n",
    "  def greet(self):\n",
    "    if self.country == 'india':\n",
    "      print('Namaste ',self.name)\n",
    "    else:\n",
    "      print('Hello ',self.name)"
   ]
  },
  {
   "cell_type": "code",
   "execution_count": 61,
   "id": "0fd8279a-1e74-4668-95c9-03f6916764ea",
   "metadata": {},
   "outputs": [],
   "source": [
    "p1=Person('saroj','india')\n",
    "p2=Person('sandesh','nepal')"
   ]
  },
  {
   "cell_type": "code",
   "execution_count": 62,
   "id": "6a62a728-2b51-44ea-a236-411ad0820064",
   "metadata": {},
   "outputs": [
    {
     "name": "stdout",
     "output_type": "stream",
     "text": [
      "Namaste  saroj\n"
     ]
    }
   ],
   "source": [
    "p1.greet()"
   ]
  },
  {
   "cell_type": "code",
   "execution_count": 64,
   "id": "cc3e2d63-3211-4c93-8a7f-bc0334df59f1",
   "metadata": {},
   "outputs": [
    {
     "name": "stdout",
     "output_type": "stream",
     "text": [
      "Hello  sandesh\n"
     ]
    }
   ],
   "source": [
    "# Acces sthe methods \n",
    "p2.greet()"
   ]
  },
  {
   "cell_type": "markdown",
   "id": "e6f53dac-ad05-4b33-885a-0f8f918a0a45",
   "metadata": {},
   "source": [
    "# Access the attributes "
   ]
  },
  {
   "cell_type": "code",
   "execution_count": 65,
   "id": "2266d096-791b-46cc-83a5-efa6d2f2c5fd",
   "metadata": {},
   "outputs": [
    {
     "name": "stdout",
     "output_type": "stream",
     "text": [
      "saroj\n",
      "sandesh\n"
     ]
    }
   ],
   "source": [
    "print(p1.name)\n",
    "print(p2.name)"
   ]
  },
  {
   "cell_type": "code",
   "execution_count": 66,
   "id": "01a5b068-7b19-4990-808f-faa4a2549ec8",
   "metadata": {},
   "outputs": [
    {
     "ename": "AttributeError",
     "evalue": "'Person' object has no attribute 'gender'",
     "output_type": "error",
     "traceback": [
      "\u001b[1;31m---------------------------------------------------------------------------\u001b[0m",
      "\u001b[1;31mAttributeError\u001b[0m                            Traceback (most recent call last)",
      "Cell \u001b[1;32mIn[66], line 2\u001b[0m\n\u001b[0;32m      1\u001b[0m \u001b[38;5;66;03m# what if i try to access non-existent attributes\u001b[39;00m\n\u001b[1;32m----> 2\u001b[0m \u001b[43mp1\u001b[49m\u001b[38;5;241;43m.\u001b[39;49m\u001b[43mgender\u001b[49m\n",
      "\u001b[1;31mAttributeError\u001b[0m: 'Person' object has no attribute 'gender'"
     ]
    }
   ],
   "source": [
    "# what if i try to access non-existent attributes\n",
    "p1.gender  # person object has no attribute 'gender'"
   ]
  },
  {
   "cell_type": "markdown",
   "id": "3d39cd37-3c13-4816-998c-5b4cb34a20d9",
   "metadata": {},
   "source": [
    "# Attribute creation from outside of the class"
   ]
  },
  {
   "cell_type": "code",
   "execution_count": 67,
   "id": "3a46bea4-6358-47c8-af2d-912710799e8e",
   "metadata": {},
   "outputs": [],
   "source": [
    "p1.gender = 'male'"
   ]
  },
  {
   "cell_type": "code",
   "execution_count": 68,
   "id": "b4faa732-2c1d-4e56-9e8a-55b73ee96fe2",
   "metadata": {},
   "outputs": [
    {
     "name": "stdout",
     "output_type": "stream",
     "text": [
      "male\n"
     ]
    }
   ],
   "source": [
    "print(p1.gender)"
   ]
  },
  {
   "cell_type": "raw",
   "id": "ac6b021b-b4d7-4dda-8fb1-aeb7fd885ef5",
   "metadata": {},
   "source": [
    "Reference Variables\n",
    "Reference variables hold the objects\n",
    "We can create objects without reference variable as well\n",
    "An object can have multiple reference variables\n",
    "Assigning a new reference variable to an existing object does not create a new object"
   ]
  },
  {
   "cell_type": "code",
   "execution_count": 75,
   "id": "01427c17-5b17-40c3-b8a9-8e1048e235b2",
   "metadata": {},
   "outputs": [],
   "source": [
    "# object without a reference\n",
    "class Person:\n",
    "\n",
    "  def __init__(self):\n",
    "    self.name = 'nitish'\n",
    "    self.gender = 'male'\n",
    "\n",
    "p = Person()\n",
    "q = p"
   ]
  },
  {
   "cell_type": "code",
   "execution_count": 76,
   "id": "8830d210-a373-4be9-86b8-413ef3c3a444",
   "metadata": {},
   "outputs": [
    {
     "name": "stdout",
     "output_type": "stream",
     "text": [
      "2285744961920\n",
      "2285744961920\n"
     ]
    }
   ],
   "source": [
    "print(id(p))  # same memory addresses    --> multiple references \n",
    "print(id(q))"
   ]
  },
  {
   "cell_type": "code",
   "execution_count": 77,
   "id": "c2a9e1e2-4115-4a65-a760-959f0a25dca5",
   "metadata": {},
   "outputs": [
    {
     "name": "stdout",
     "output_type": "stream",
     "text": [
      "nitish\n",
      "nitish\n",
      "saroj\n",
      "saroj\n",
      "\n",
      "\n",
      "male\n",
      "male\n",
      "females\n",
      "females\n"
     ]
    }
   ],
   "source": [
    "# change attribute value with the help of 2nd object\n",
    "print(p.name)\n",
    "print(q.name)\n",
    "p.name='saroj'\n",
    "print(p.name)\n",
    "print(q.name)\n",
    "print(\"\\n\")\n",
    "print(p.gender)\n",
    "print(q.gender)\n",
    "q.gender='females'\n",
    "print(p.gender)\n",
    "print(q.gender)"
   ]
  },
  {
   "cell_type": "markdown",
   "id": "4e56b3eb-86e8-4f77-87c8-4a04fdba77e9",
   "metadata": {},
   "source": [
    "# pass by references"
   ]
  },
  {
   "cell_type": "code",
   "execution_count": 78,
   "id": "3824544f-91b1-4229-81d1-66b1aae3b051",
   "metadata": {},
   "outputs": [
    {
     "name": "stdout",
     "output_type": "stream",
     "text": [
      "Hi my name is saroj and I am a male\n",
      "sandesh\n",
      "male\n"
     ]
    }
   ],
   "source": [
    "class Person:\n",
    "\n",
    "  def __init__(self,name,gender):\n",
    "    self.name = name\n",
    "    self.gender = gender\n",
    "\n",
    "# outside the class -> function\n",
    "def greet(person):\n",
    "  print('Hi my name is',person.name,'and I am a',person.gender)\n",
    "  p1 = Person('sandesh','male')\n",
    "  return p1                       # return the objects \n",
    "\n",
    "p = Person('saroj','male')\n",
    "x = greet(p)\n",
    "\n",
    "print(x.name)\n",
    "print(x.gender)"
   ]
  },
  {
   "cell_type": "code",
   "execution_count": 80,
   "id": "66e277a7-d5e6-49d1-a472-2f988c808fb4",
   "metadata": {},
   "outputs": [
    {
     "name": "stdout",
     "output_type": "stream",
     "text": [
      "saroj\n",
      "male\n"
     ]
    }
   ],
   "source": [
    "print(p.name)\n",
    "print(p.gender)"
   ]
  },
  {
   "cell_type": "markdown",
   "id": "cfc64c01-68c1-45f8-b6d5-508d6595351c",
   "metadata": {},
   "source": [
    "# Example 2 "
   ]
  },
  {
   "cell_type": "code",
   "execution_count": 82,
   "id": "3721c433-b715-45a3-adac-a4f06d1e8099",
   "metadata": {},
   "outputs": [
    {
     "name": "stdout",
     "output_type": "stream",
     "text": [
      "nitish\n",
      "2285744953904\n",
      "2285744953904\n",
      "ankit\n",
      "ankit\n"
     ]
    }
   ],
   "source": [
    "class Person:\n",
    "\n",
    "  def __init__(self,name,gender):\n",
    "    self.name = name\n",
    "    self.gender = gender\n",
    "\n",
    "\n",
    "# outside the class -> function\n",
    "def greet(person):\n",
    "  print(id(person))\n",
    "  person.name = 'ankit'\n",
    "  print(person.name)\n",
    "\n",
    "p = Person('nitish','male')  # objects   # same memory locations \n",
    "print(p.name)\n",
    "print(id(p))                 # reference of the objects \n",
    "greet(p)                     # passing the objects to the function greet(outside of the class) \n",
    "print(p.name)    # we are changing the original objects "
   ]
  },
  {
   "cell_type": "markdown",
   "id": "e486f5af-b944-4b17-aee7-93ba79f434e7",
   "metadata": {},
   "source": [
    "# object mutuabllity"
   ]
  },
  {
   "cell_type": "code",
   "execution_count": 84,
   "id": "a47d68d0-14ff-4d91-89f0-0a38ce261eb0",
   "metadata": {},
   "outputs": [
    {
     "name": "stdout",
     "output_type": "stream",
     "text": [
      "2285744961776\n",
      "2285744961776\n",
      "kusma parbat\n"
     ]
    }
   ],
   "source": [
    "class Person:\n",
    "\n",
    "  def __init__(self,name,gender):\n",
    "    self.name = name\n",
    "    self.gender = gender\n",
    "\n",
    "# outside the class -> function\n",
    "def greet(person):\n",
    "  person.name = 'ankit'\n",
    "  return person\n",
    "\n",
    "p = Person('nitish','male')\n",
    "print(id(p))\n",
    "p1 = greet(p)\n",
    "print(id(p1))   # same memory locations \n",
    "p1.address='kusma parbat'  #  change in the another objects functions returns \n",
    "\n",
    "print(p.address)"
   ]
  },
  {
   "cell_type": "markdown",
   "id": "c9b39565-eb77-404c-a165-a9dde9963c8c",
   "metadata": {},
   "source": [
    "# Encapsulation"
   ]
  },
  {
   "cell_type": "code",
   "execution_count": 85,
   "id": "a60560e0-2010-4595-b90d-4779b29e233f",
   "metadata": {},
   "outputs": [],
   "source": [
    "# instance var -> python tutor\n",
    "class Person:\n",
    "\n",
    "  def __init__(self,name_input,country_input):\n",
    "    self.name = name_input\n",
    "    self.country = country_input\n",
    "\n",
    "p1 = Person('nitish','india')\n",
    "p2 = Person('steve','australia')"
   ]
  },
  {
   "cell_type": "code",
   "execution_count": 86,
   "id": "88023a7b-3898-4fb0-ac74-ab84bf3c1e98",
   "metadata": {},
   "outputs": [
    {
     "name": "stdout",
     "output_type": "stream",
     "text": [
      "steve\n",
      "nitish\n"
     ]
    }
   ],
   "source": [
    "print(p2.name)\n",
    "print(p1.name)"
   ]
  },
  {
   "cell_type": "code",
   "execution_count": 95,
   "id": "4e89805a-7244-4e2b-8ba6-9fa915b295cf",
   "metadata": {},
   "outputs": [],
   "source": [
    "class Atm:\n",
    "    \n",
    "  # constructor(special function)->superpower -> \n",
    "  def __init__(self):\n",
    "    print(id(self))\n",
    "    self.pin = '1234'\n",
    "    self.__balance = 10000\n",
    "\n",
    "  def display(self):\n",
    "      print(self.pin)\n",
    "     # print(self.balance)\n",
    "      print(self.__balance)  # this is nothing but the variables \n",
    "\n",
    "  def set_balance(self):\n",
    "      self.__balance=20000\n",
    "  "
   ]
  },
  {
   "cell_type": "code",
   "execution_count": 96,
   "id": "c4ac69d7-7bb9-4494-bd56-c6230e7e6378",
   "metadata": {},
   "outputs": [
    {
     "name": "stdout",
     "output_type": "stream",
     "text": [
      "2285744991328\n"
     ]
    }
   ],
   "source": [
    "a1=Atm()"
   ]
  },
  {
   "cell_type": "code",
   "execution_count": 97,
   "id": "8cdd8075-e839-4b08-991d-c3a3e5ae18a6",
   "metadata": {},
   "outputs": [
    {
     "name": "stdout",
     "output_type": "stream",
     "text": [
      "1234\n",
      "10000\n"
     ]
    }
   ],
   "source": [
    "a1.display()"
   ]
  },
  {
   "cell_type": "code",
   "execution_count": 98,
   "id": "4ee6c39e-2f23-47fe-acc3-dfcc151a346c",
   "metadata": {},
   "outputs": [],
   "source": [
    "a1.set_balance()"
   ]
  },
  {
   "cell_type": "code",
   "execution_count": 99,
   "id": "dcacbd70-a864-4183-9335-2afbb5143cb0",
   "metadata": {},
   "outputs": [
    {
     "name": "stdout",
     "output_type": "stream",
     "text": [
      "1234\n",
      "20000\n"
     ]
    }
   ],
   "source": [
    "a1.display()"
   ]
  },
  {
   "cell_type": "markdown",
   "id": "e5c82b04-fb06-4958-b9cc-a4e559a71321",
   "metadata": {},
   "source": [
    "# Collection of objects"
   ]
  },
  {
   "cell_type": "code",
   "execution_count": 100,
   "id": "7c1a9993-aad9-4a14-a309-015f1ba00aab",
   "metadata": {},
   "outputs": [],
   "source": [
    "class Student:\n",
    "\n",
    "    def __init__(self,name,age):\n",
    "        self.name=name\n",
    "        self.age=age"
   ]
  },
  {
   "cell_type": "code",
   "execution_count": 101,
   "id": "d67a70e2-c7e2-4670-bc73-77d54ce616ca",
   "metadata": {},
   "outputs": [],
   "source": [
    "s1=Student('saroj',20)\n",
    "s2=Student('sandesh',23)\n",
    "s3=Student('madan',40)"
   ]
  },
  {
   "cell_type": "code",
   "execution_count": 102,
   "id": "7c2b2c48-e15e-4d8d-8ffe-ddf8c9a5228f",
   "metadata": {},
   "outputs": [],
   "source": [
    "objs=[s1,s2,s3]"
   ]
  },
  {
   "cell_type": "code",
   "execution_count": 103,
   "id": "de4d322c-31cb-4ef7-bf1b-e451ffda5a96",
   "metadata": {},
   "outputs": [
    {
     "name": "stdout",
     "output_type": "stream",
     "text": [
      "saroj 20\n",
      "sandesh 23\n",
      "madan 40\n"
     ]
    }
   ],
   "source": [
    "for i in objs:\n",
    "    print(i.name, i.age)"
   ]
  },
  {
   "cell_type": "code",
   "execution_count": 105,
   "id": "e501e6ae-4b3c-4894-9bcb-e1368ca97130",
   "metadata": {},
   "outputs": [
    {
     "name": "stdout",
     "output_type": "stream",
     "text": [
      "male\n",
      "male\n",
      "female\n",
      "nitish\n",
      "ankit\n",
      "ankita\n"
     ]
    }
   ],
   "source": [
    "# dict of objects\n",
    "# list of objects\n",
    "class Person:\n",
    "\n",
    "  def __init__(self,name,gender):\n",
    "    self.name = name\n",
    "    self.gender = gender\n",
    "\n",
    "p1 = Person('nitish','male')\n",
    "p2 = Person('ankit','male')\n",
    "p3 = Person('ankita','female')\n",
    "\n",
    "d = {'p1':p1,'p2':p2,'p3':p3}\n",
    "\n",
    "for i in d:\n",
    "  print(d[i].gender)\n",
    "for i in d:\n",
    "    print(d[i].name)"
   ]
  },
  {
   "cell_type": "markdown",
   "id": "4ccf9541-0722-4f54-8291-7d7def691bbb",
   "metadata": {},
   "source": [
    "# Static Variables(Vs Instance variables)"
   ]
  },
  {
   "cell_type": "code",
   "execution_count": 121,
   "id": "eb5fb2b2-a369-4af3-877b-5af8b51288e6",
   "metadata": {},
   "outputs": [],
   "source": [
    "class Atm:\n",
    "  __counter = 1\n",
    "    \n",
    "  def __init__(self):\n",
    "    self.cid = Atm.__counter\n",
    "    Atm.__counter = Atm.__counter + 1\n",
    "\n",
    "  @staticmethod\n",
    "  def get_counter():\n",
    "    return Atm.__counter\n",
    "\n",
    "  @staticmethod      # if we are not provide objects to the methods we have to add the @static methods \n",
    "  def greetings():\n",
    "      print(\"good mornings \")"
   ]
  },
  {
   "cell_type": "code",
   "execution_count": 122,
   "id": "20cb77cb-58a7-4291-ac35-ad638694fa0e",
   "metadata": {},
   "outputs": [],
   "source": [
    "a1=Atm()\n",
    "a2=Atm()\n",
    "a3=Atm()"
   ]
  },
  {
   "cell_type": "code",
   "execution_count": 123,
   "id": "da6b2e2c-8d8d-48d9-a1b5-95938bc89ebb",
   "metadata": {},
   "outputs": [
    {
     "data": {
      "text/plain": [
       "4"
      ]
     },
     "execution_count": 123,
     "metadata": {},
     "output_type": "execute_result"
    }
   ],
   "source": [
    "a1.get_counter()"
   ]
  },
  {
   "cell_type": "code",
   "execution_count": 124,
   "id": "43093c5e-763d-4122-9328-ab3bae283f3e",
   "metadata": {},
   "outputs": [
    {
     "name": "stdout",
     "output_type": "stream",
     "text": [
      "good mornings \n"
     ]
    }
   ],
   "source": [
    "a1.greetings()"
   ]
  },
  {
   "cell_type": "markdown",
   "id": "f7ee7f19-abe8-469a-90bd-96b23390cf4d",
   "metadata": {},
   "source": [
    "# Static methods"
   ]
  },
  {
   "cell_type": "raw",
   "id": "4400ca45-2f01-4755-b0f6-a6b435623f95",
   "metadata": {},
   "source": [
    "Points to remember about static\n",
    "\n",
    "Static attributes are created at class level.\n",
    "Static attributes are accessed using ClassName.\n",
    "Static attributes are object independent. We can access them without creating instance (object)\n",
    "of the class in which they are defined.\n",
    "The value stored in static attribute is shared between all instances(objects) \n",
    "of the class in which the static attribute is defined."
   ]
  },
  {
   "cell_type": "code",
   "execution_count": 132,
   "id": "83eeea7b-65c4-4300-8c10-b7e847c6bee8",
   "metadata": {},
   "outputs": [],
   "source": [
    "class Lion:\n",
    "  __water_source=\"well in the circus\"\n",
    "\n",
    "  def __init__(self,name, gender):\n",
    "      self.__name=name\n",
    "      self.__gender=gender\n",
    "\n",
    "  def drinks_water(self):\n",
    "      print(self.__name,\" drinks water from the \",Lion.__water_source)\n",
    "\n",
    "  @staticmethod\n",
    "  def get_water_source():   # class attributes \n",
    "      return Lion.__water_source"
   ]
  },
  {
   "cell_type": "code",
   "execution_count": 133,
   "id": "e5062a63-14f8-49c0-b748-95327b9a31dc",
   "metadata": {},
   "outputs": [],
   "source": [
    "simba=Lion(\"Simba\",\"Male\")"
   ]
  },
  {
   "cell_type": "code",
   "execution_count": 134,
   "id": "f81e2e31-566f-4db3-be8b-a7a6642fc055",
   "metadata": {},
   "outputs": [
    {
     "name": "stdout",
     "output_type": "stream",
     "text": [
      "Simba  drinks water from the  well in the circus\n"
     ]
    }
   ],
   "source": [
    "simba.drinks_water()"
   ]
  },
  {
   "cell_type": "code",
   "execution_count": 135,
   "id": "8578f53d-5f74-414c-ac77-5ba906dc36e6",
   "metadata": {},
   "outputs": [
    {
     "data": {
      "text/plain": [
       "'well in the circus'"
      ]
     },
     "execution_count": 135,
     "metadata": {},
     "output_type": "execute_result"
    }
   ],
   "source": [
    "Lion.get_water_source()"
   ]
  },
  {
   "cell_type": "code",
   "execution_count": null,
   "id": "fd4093fe-8b97-459d-b35b-07518e21d583",
   "metadata": {},
   "outputs": [],
   "source": []
  },
  {
   "cell_type": "code",
   "execution_count": null,
   "id": "5043194b-dc36-47cf-ac62-721758132ded",
   "metadata": {},
   "outputs": [],
   "source": []
  },
  {
   "cell_type": "code",
   "execution_count": null,
   "id": "b36a4b9a-a56c-4dc0-8f6b-cddee42b0c69",
   "metadata": {},
   "outputs": [],
   "source": []
  },
  {
   "cell_type": "code",
   "execution_count": null,
   "id": "fec40ca4-a449-470d-9a49-ef5196accf68",
   "metadata": {},
   "outputs": [],
   "source": []
  },
  {
   "cell_type": "code",
   "execution_count": null,
   "id": "c3d76600-abef-455b-bbeb-5b20d0b8de96",
   "metadata": {},
   "outputs": [],
   "source": []
  },
  {
   "cell_type": "code",
   "execution_count": null,
   "id": "37e1acca-927e-441b-bd1c-60a97b5dba1e",
   "metadata": {},
   "outputs": [],
   "source": []
  },
  {
   "cell_type": "code",
   "execution_count": null,
   "id": "43d587fe-1754-44f4-aaac-8f1936772460",
   "metadata": {},
   "outputs": [],
   "source": []
  },
  {
   "cell_type": "code",
   "execution_count": null,
   "id": "7fa61a86-4884-471f-b039-3af13fff6cc6",
   "metadata": {},
   "outputs": [],
   "source": []
  },
  {
   "cell_type": "code",
   "execution_count": null,
   "id": "678c5ca8-f1b3-4d0d-bbd4-f1d9457e5bb9",
   "metadata": {},
   "outputs": [],
   "source": []
  },
  {
   "cell_type": "code",
   "execution_count": null,
   "id": "6a70bc72-3b99-4290-8d36-16f417bebfd2",
   "metadata": {},
   "outputs": [],
   "source": []
  },
  {
   "cell_type": "code",
   "execution_count": null,
   "id": "d7b264f7-daab-41c9-b7ad-0a48d2deb6e8",
   "metadata": {},
   "outputs": [],
   "source": []
  },
  {
   "cell_type": "code",
   "execution_count": null,
   "id": "bf453719-1451-40e0-a0da-a088b47f8736",
   "metadata": {},
   "outputs": [],
   "source": []
  },
  {
   "cell_type": "code",
   "execution_count": null,
   "id": "d7a46ba0-a0e5-4585-8b9b-e0c4ae44da10",
   "metadata": {},
   "outputs": [],
   "source": []
  },
  {
   "cell_type": "code",
   "execution_count": null,
   "id": "ac36ad08-b2d5-4a31-bc41-8a5ff4aed23a",
   "metadata": {},
   "outputs": [],
   "source": []
  },
  {
   "cell_type": "code",
   "execution_count": null,
   "id": "f800e5d0-e434-40fb-9416-72744e06fef3",
   "metadata": {},
   "outputs": [],
   "source": []
  },
  {
   "cell_type": "code",
   "execution_count": null,
   "id": "99a22f80-8c70-45cc-ad25-ebc51b1d4965",
   "metadata": {},
   "outputs": [],
   "source": [
    "\n"
   ]
  }
 ],
 "metadata": {
  "kernelspec": {
   "display_name": "Python 3 (ipykernel)",
   "language": "python",
   "name": "python3"
  },
  "language_info": {
   "codemirror_mode": {
    "name": "ipython",
    "version": 3
   },
   "file_extension": ".py",
   "mimetype": "text/x-python",
   "name": "python",
   "nbconvert_exporter": "python",
   "pygments_lexer": "ipython3",
   "version": "3.12.6"
  }
 },
 "nbformat": 4,
 "nbformat_minor": 5
}
