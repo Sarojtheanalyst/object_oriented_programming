{
 "cells": [
  {
   "cell_type": "code",
   "execution_count": 2,
   "id": "c08729e8-5123-435f-bcd9-4797eb82300b",
   "metadata": {},
   "outputs": [
    {
     "name": "stdout",
     "output_type": "stream",
     "text": [
      "Collecting nlpcloud\n",
      "  Downloading nlpcloud-1.1.46-py3-none-any.whl.metadata (1.1 kB)\n",
      "Requirement already satisfied: requests in c:\\users\\hp\\appdata\\local\\programs\\python\\python312\\lib\\site-packages (from nlpcloud) (2.32.3)\n",
      "Requirement already satisfied: charset-normalizer<4,>=2 in c:\\users\\hp\\appdata\\local\\programs\\python\\python312\\lib\\site-packages (from requests->nlpcloud) (3.4.0)\n",
      "Requirement already satisfied: idna<4,>=2.5 in c:\\users\\hp\\appdata\\local\\programs\\python\\python312\\lib\\site-packages (from requests->nlpcloud) (3.10)\n",
      "Requirement already satisfied: urllib3<3,>=1.21.1 in c:\\users\\hp\\appdata\\local\\programs\\python\\python312\\lib\\site-packages (from requests->nlpcloud) (2.2.3)\n",
      "Requirement already satisfied: certifi>=2017.4.17 in c:\\users\\hp\\appdata\\local\\programs\\python\\python312\\lib\\site-packages (from requests->nlpcloud) (2024.8.30)\n",
      "Downloading nlpcloud-1.1.46-py3-none-any.whl (3.9 kB)\n",
      "Installing collected packages: nlpcloud\n",
      "Successfully installed nlpcloud-1.1.46\n"
     ]
    }
   ],
   "source": [
    "!pip install nlpcloud"
   ]
  },
  {
   "cell_type": "code",
   "execution_count": 3,
   "id": "784914e1-9e13-4f8d-9ce8-810595dcb46a",
   "metadata": {},
   "outputs": [
    {
     "name": "stdout",
     "output_type": "stream",
     "text": [
      "uploaded sucessfully\n"
     ]
    }
   ],
   "source": [
    "import nlpcloud\n",
    "print(\"uploaded sucessfully\")"
   ]
  },
  {
   "cell_type": "code",
   "execution_count": null,
   "id": "5aad2aa7-8677-493d-8893-0698850ba2c2",
   "metadata": {},
   "outputs": [],
   "source": []
  }
 ],
 "metadata": {
  "kernelspec": {
   "display_name": "Python 3 (ipykernel)",
   "language": "python",
   "name": "python3"
  },
  "language_info": {
   "codemirror_mode": {
    "name": "ipython",
    "version": 3
   },
   "file_extension": ".py",
   "mimetype": "text/x-python",
   "name": "python",
   "nbconvert_exporter": "python",
   "pygments_lexer": "ipython3",
   "version": "3.12.6"
  }
 },
 "nbformat": 4,
 "nbformat_minor": 5
}
